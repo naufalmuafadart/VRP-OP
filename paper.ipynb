{
 "cells": [
  {
   "metadata": {},
   "cell_type": "markdown",
   "source": "# Import dependency",
   "id": "f14a7873d7ea1a18"
  },
  {
   "metadata": {
    "ExecuteTime": {
     "end_time": "2025-05-01T05:56:05.696809Z",
     "start_time": "2025-05-01T05:56:04.824139Z"
    }
   },
   "cell_type": "code",
   "source": [
    "from dependency_injector import containers, providers\n",
    "import datetime\n",
    "import random\n",
    "\n",
    "# infrastructure\n",
    "from application.infrastructure.repository.PandasDataFrameRepository import PandasDataFrameRepository\n",
    "from application.infrastructure.repository.KMeansClusteringRepository import KMeansClusteringRepository\n",
    "from application.infrastructure.repository.VRPOPProblemRepository import VRPOPProblemRepository\n",
    "from application.infrastructure.repository.SAAlgorithmRepository import SAAlgorithmRepository\n",
    "\n",
    "# use case\n",
    "from application.use_case.RunVRPOPUseCase import RunVRPOPUseCase"
   ],
   "id": "initial_id",
   "outputs": [],
   "execution_count": 1
  },
  {
   "metadata": {},
   "cell_type": "markdown",
   "source": "# Membuat dependency injector",
   "id": "d441f31c273d75f1"
  },
  {
   "metadata": {
    "ExecuteTime": {
     "end_time": "2025-05-01T05:56:05.827297Z",
     "start_time": "2025-05-01T05:56:05.823813Z"
    }
   },
   "cell_type": "code",
   "source": [
    "class Container(containers.DeclarativeContainer):\n",
    "    data_frame_repository = providers.Singleton(PandasDataFrameRepository)\n",
    "    clustering_repository = providers.Singleton(KMeansClusteringRepository)\n",
    "    vrpop_repository = providers.Singleton(VRPOPProblemRepository)\n",
    "    sa_repository = providers.Singleton(SAAlgorithmRepository)\n",
    "\n",
    "container = Container()"
   ],
   "id": "70ddece5aaaaab3d",
   "outputs": [],
   "execution_count": 2
  },
  {
   "metadata": {},
   "cell_type": "markdown",
   "source": "# Data yang digunakan",
   "id": "a5fa8a5e8cb965b1"
  },
  {
   "metadata": {
    "ExecuteTime": {
     "end_time": "2025-05-01T05:56:05.836421Z",
     "start_time": "2025-05-01T05:56:05.833421Z"
    }
   },
   "cell_type": "code",
   "source": [
    "selected_pois = random.sample(range(1, 100), 40)  # This generates 40 unique random numbers from 1 to 99\n",
    "n_days = 5"
   ],
   "id": "4c3bd7b47036d862",
   "outputs": [],
   "execution_count": 3
  },
  {
   "metadata": {},
   "cell_type": "markdown",
   "source": "# VRP - OP",
   "id": "15ae67741873daf3"
  },
  {
   "metadata": {
    "ExecuteTime": {
     "end_time": "2025-05-01T05:56:26.466697Z",
     "start_time": "2025-05-01T05:56:05.844389Z"
    }
   },
   "cell_type": "code",
   "source": [
    "use_case = RunVRPOPUseCase(\n",
    "    container.data_frame_repository(),\n",
    "    container.vrpop_repository(),\n",
    "    container.sa_repository()\n",
    ")\n",
    "\n",
    "now = datetime.datetime.now()\n",
    "routes, total_quality, n_poi, duration_utilization = use_case.execute(\n",
    "    selected_pois,\n",
    "    n_days,\n",
    "    101 # hotel id\n",
    ")\n",
    "duration = datetime.datetime.now() - now\n",
    "\n",
    "print('Routes')\n",
    "for route in routes:\n",
    "    print(route)\n",
    "print('==============')\n",
    "print('Total Quality       :', total_quality)\n",
    "print('# POI               :', n_poi)\n",
    "print('Duration Utilization:', duration_utilization)\n",
    "print('Running Time        :', duration)"
   ],
   "id": "1fa2fbc0c9a8b38b",
   "outputs": [
    {
     "name": "stdout",
     "output_type": "stream",
     "text": [
      "Routes\n",
      "[50, 46, 65, 35, 88, 52, 5]\n",
      "[62, 18, 42, 95, 75, 83, 53]\n",
      "[78, 56, 72, 85, 17, 29, 43]\n",
      "[86, 69, 27, 16, 15, 57, 64]\n",
      "[67, 14, 96, 63, 70, 33]\n",
      "==============\n",
      "Total Quality       : 155.3\n",
      "# POI               : 34\n",
      "Duration Utilization: 28.413675213675216\n",
      "Running Time        : 0:00:20.617471\n"
     ]
    }
   ],
   "execution_count": 4
  },
  {
   "metadata": {
    "ExecuteTime": {
     "end_time": "2025-05-01T05:56:26.472434Z",
     "start_time": "2025-05-01T05:56:26.469702Z"
    }
   },
   "cell_type": "code",
   "source": "",
   "id": "ef690c8c7299e04b",
   "outputs": [],
   "execution_count": null
  }
 ],
 "metadata": {
  "kernelspec": {
   "display_name": "Python 3",
   "language": "python",
   "name": "python3"
  },
  "language_info": {
   "codemirror_mode": {
    "name": "ipython",
    "version": 2
   },
   "file_extension": ".py",
   "mimetype": "text/x-python",
   "name": "python",
   "nbconvert_exporter": "python",
   "pygments_lexer": "ipython2",
   "version": "2.7.6"
  }
 },
 "nbformat": 4,
 "nbformat_minor": 5
}
