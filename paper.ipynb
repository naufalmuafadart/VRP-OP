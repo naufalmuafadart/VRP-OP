{
 "cells": [
  {
   "metadata": {},
   "cell_type": "markdown",
   "source": "# Import dependency",
   "id": "f14a7873d7ea1a18"
  },
  {
   "metadata": {
    "ExecuteTime": {
     "end_time": "2025-05-01T07:51:49.891983Z",
     "start_time": "2025-05-01T07:51:49.065467Z"
    }
   },
   "cell_type": "code",
   "source": [
    "from dependency_injector import containers, providers\n",
    "import datetime\n",
    "import random\n",
    "\n",
    "# infrastructure\n",
    "from application.infrastructure.repository.PandasDataFrameRepository import PandasDataFrameRepository\n",
    "from application.infrastructure.repository.KMeansClusteringRepository import KMeansClusteringRepository\n",
    "from application.infrastructure.repository.VRPOPProblemRepository import VRPOPProblemRepository\n",
    "from application.infrastructure.repository.VRPProblemRepository import VRPProblemRepository\n",
    "from application.infrastructure.repository.RandomProblemRepository import RandomProblemRepository\n",
    "from application.infrastructure.repository.GreedyProblemRepository import GreedyProblemRepository\n",
    "from application.infrastructure.repository.SAAlgorithmRepository import SAAlgorithmRepository\n",
    "\n",
    "# use case\n",
    "from application.use_case.RunVRPOPUseCase import RunVRPOPUseCase\n",
    "from application.use_case.RunVRPUseCase import RunVRPUseCase\n",
    "from application.use_case.RunRandomUseCase import RunRandomUseCase\n",
    "from application.use_case.RunGreedyUseCase import RunGreedyUseCase"
   ],
   "id": "initial_id",
   "outputs": [],
   "execution_count": 1
  },
  {
   "metadata": {},
   "cell_type": "markdown",
   "source": "# Membuat dependency injector",
   "id": "d441f31c273d75f1"
  },
  {
   "metadata": {
    "ExecuteTime": {
     "end_time": "2025-05-01T07:51:50.007504Z",
     "start_time": "2025-05-01T07:51:50.004019Z"
    }
   },
   "cell_type": "code",
   "source": [
    "class Container(containers.DeclarativeContainer):\n",
    "    data_frame_repository = providers.Singleton(PandasDataFrameRepository)\n",
    "    clustering_repository = providers.Singleton(KMeansClusteringRepository)\n",
    "    vrpop_repository = providers.Singleton(VRPOPProblemRepository)\n",
    "    vrp_repository = providers.Singleton(VRPProblemRepository)\n",
    "    random_repository = providers.Singleton(RandomProblemRepository)\n",
    "    greedy_repository = providers.Singleton(GreedyProblemRepository)\n",
    "    sa_repository = providers.Singleton(SAAlgorithmRepository)\n",
    "\n",
    "container = Container()"
   ],
   "id": "70ddece5aaaaab3d",
   "outputs": [],
   "execution_count": 2
  },
  {
   "metadata": {},
   "cell_type": "markdown",
   "source": "# Data yang digunakan",
   "id": "a5fa8a5e8cb965b1"
  },
  {
   "metadata": {
    "ExecuteTime": {
     "end_time": "2025-05-01T07:51:50.021481Z",
     "start_time": "2025-05-01T07:51:50.019016Z"
    }
   },
   "cell_type": "code",
   "source": [
    "n_testing = 100\n",
    "list_of_pois = []\n",
    "for i in range(n_testing):\n",
    "    list_of_pois.append(random.sample(range(1, 100), 40))\n",
    "n_days = 5\n",
    "hotel_id = 101"
   ],
   "id": "4c3bd7b47036d862",
   "outputs": [],
   "execution_count": 3
  },
  {
   "metadata": {},
   "cell_type": "markdown",
   "source": "# VRP - OP",
   "id": "15ae67741873daf3"
  },
  {
   "metadata": {
    "ExecuteTime": {
     "end_time": "2025-05-01T07:52:50.906389Z",
     "start_time": "2025-05-01T07:51:50.032837Z"
    }
   },
   "cell_type": "code",
   "source": [
    "use_case = RunVRPOPUseCase(\n",
    "    container.data_frame_repository(),\n",
    "    container.vrpop_repository(),\n",
    "    container.sa_repository()\n",
    ")\n",
    "\n",
    "sum_quality = 0\n",
    "sum_n_poi = 0\n",
    "sum_duration_utilization = 0\n",
    "sum_duration = datetime.timedelta(0)\n",
    "\n",
    "for i in range(n_testing):\n",
    "    now = datetime.datetime.now()\n",
    "    routes, total_quality, n_poi, duration_utilization = use_case.execute(\n",
    "        list_of_pois[0],\n",
    "        n_days,\n",
    "        hotel_id\n",
    "    )\n",
    "    duration = datetime.datetime.now() - now\n",
    "\n",
    "    sum_quality += total_quality\n",
    "    sum_n_poi += n_poi\n",
    "    sum_duration_utilization += duration_utilization\n",
    "    sum_duration += duration\n",
    "\n",
    "print('==============')\n",
    "print('Total Quality       :', sum_quality / n_testing)\n",
    "print('# POI               :', sum_n_poi / n_testing)\n",
    "print('Duration Utilization:', sum_duration_utilization / n_testing)\n",
    "print('Running Time        :', sum_duration / n_testing)"
   ],
   "id": "1fa2fbc0c9a8b38b",
   "outputs": [
    {
     "name": "stdout",
     "output_type": "stream",
     "text": [
      "==============\n",
      "Total Quality       : 155.0666666666667\n",
      "# POI               : 33.666666666666664\n",
      "Duration Utilization: 26.18518518518518\n",
      "Running Time        : 0:00:20.289988\n"
     ]
    }
   ],
   "execution_count": 4
  },
  {
   "metadata": {},
   "cell_type": "markdown",
   "source": "# VRP",
   "id": "d96a1664195b6d49"
  },
  {
   "metadata": {
    "ExecuteTime": {
     "end_time": "2025-05-01T07:53:21.585570Z",
     "start_time": "2025-05-01T07:52:50.921557Z"
    }
   },
   "cell_type": "code",
   "source": [
    "use_case = RunVRPUseCase(\n",
    "    container.data_frame_repository(),\n",
    "    container.vrpop_repository(),\n",
    "    container.sa_repository()\n",
    ")\n",
    "\n",
    "sum_quality = 0\n",
    "sum_n_poi = 0\n",
    "sum_duration_utilization = 0\n",
    "sum_duration = datetime.timedelta(0)\n",
    "\n",
    "for i in range(n_testing):\n",
    "    now = datetime.datetime.now()\n",
    "    routes, total_quality, n_poi, duration_utilization = use_case.execute(\n",
    "        list_of_pois[0],\n",
    "        n_days,\n",
    "        hotel_id\n",
    "    )\n",
    "    duration = datetime.datetime.now() - now\n",
    "    sum_quality += total_quality\n",
    "    sum_n_poi += n_poi\n",
    "    sum_duration_utilization += duration_utilization\n",
    "    sum_duration += duration\n",
    "\n",
    "print('==============')\n",
    "print('Total Quality       :', sum_quality / n_testing)\n",
    "print('# POI               :', sum_n_poi / n_testing)\n",
    "print('Duration Utilization:', sum_duration_utilization / n_testing)\n",
    "print('Running Time        :', sum_duration / n_testing)"
   ],
   "id": "ef690c8c7299e04b",
   "outputs": [
    {
     "name": "stdout",
     "output_type": "stream",
     "text": [
      "==============\n",
      "Total Quality       : 150.5333333333333\n",
      "# POI               : 32.666666666666664\n",
      "Duration Utilization: 26.08903133903134\n",
      "Running Time        : 0:00:10.219888\n"
     ]
    }
   ],
   "execution_count": 5
  },
  {
   "metadata": {},
   "cell_type": "markdown",
   "source": "# Random",
   "id": "36471425f893ead5"
  },
  {
   "metadata": {
    "ExecuteTime": {
     "end_time": "2025-05-01T07:53:24.470314Z",
     "start_time": "2025-05-01T07:53:21.596086Z"
    }
   },
   "cell_type": "code",
   "source": [
    "use_case = RunRandomUseCase(\n",
    "    container.data_frame_repository(),\n",
    "    container.random_repository()\n",
    ")\n",
    "\n",
    "sum_quality = 0\n",
    "sum_n_poi = 0\n",
    "sum_duration_utilization = 0\n",
    "sum_duration = datetime.timedelta(0)\n",
    "\n",
    "for i in range(n_testing):\n",
    "    now = datetime.datetime.now()\n",
    "    routes, total_quality, n_poi, duration_utilization = use_case.execute(\n",
    "        list_of_pois[0],\n",
    "        n_days,\n",
    "        hotel_id\n",
    "    )\n",
    "    duration = datetime.datetime.now() - now\n",
    "    sum_quality += total_quality\n",
    "    sum_n_poi += n_poi\n",
    "    sum_duration_utilization += duration_utilization\n",
    "    sum_duration += duration\n",
    "\n",
    "print('==============')\n",
    "print('Total Quality       :', sum_quality / n_testing)\n",
    "print('# POI               :', sum_n_poi / n_testing)\n",
    "print('Duration Utilization:', sum_duration_utilization / n_testing)\n",
    "print('Running Time        :', sum_duration / n_testing)"
   ],
   "id": "1a8b0a4302a3437f",
   "outputs": [
    {
     "name": "stdout",
     "output_type": "stream",
     "text": [
      "==============\n",
      "Total Quality       : 156.56666666666666\n",
      "# POI               : 34.0\n",
      "Duration Utilization: 23.15997150997151\n",
      "Running Time        : 0:00:00.956537\n"
     ]
    }
   ],
   "execution_count": 6
  },
  {
   "metadata": {},
   "cell_type": "markdown",
   "source": "# Greedy",
   "id": "a0a9e5abe9010a13"
  },
  {
   "metadata": {
    "ExecuteTime": {
     "end_time": "2025-05-01T07:53:30.185387Z",
     "start_time": "2025-05-01T07:53:24.513700Z"
    }
   },
   "cell_type": "code",
   "source": [
    "use_case = RunGreedyUseCase(\n",
    "    container.data_frame_repository(),\n",
    "    container.greedy_repository()\n",
    ")\n",
    "\n",
    "sum_quality = 0\n",
    "sum_n_poi = 0\n",
    "sum_duration_utilization = 0\n",
    "sum_duration = datetime.timedelta(0)\n",
    "\n",
    "for i in range(n_testing):\n",
    "    now = datetime.datetime.now()\n",
    "    routes, total_quality, n_poi, duration_utilization = use_case.execute(\n",
    "        list_of_pois[0],\n",
    "        n_days,\n",
    "        hotel_id\n",
    "    )\n",
    "    duration = datetime.datetime.now() - now\n",
    "    sum_quality += total_quality\n",
    "    sum_n_poi += n_poi\n",
    "    sum_duration_utilization += duration_utilization\n",
    "    sum_duration += duration\n",
    "\n",
    "print('==============')\n",
    "print('Total Quality       :', sum_quality / n_testing)\n",
    "print('# POI               :', sum_n_poi / n_testing)\n",
    "print('Duration Utilization:', sum_duration_utilization / n_testing)\n",
    "print('Running Time        :', sum_duration / n_testing)"
   ],
   "id": "2c851d16b44b06d1",
   "outputs": [
    {
     "name": "stdout",
     "output_type": "stream",
     "text": [
      "==============\n",
      "Total Quality       : 148.0\n",
      "# POI               : 32.0\n",
      "Duration Utilization: 19.955982905982907\n",
      "Running Time        : 0:00:01.889133\n"
     ]
    }
   ],
   "execution_count": 7
  }
 ],
 "metadata": {
  "kernelspec": {
   "display_name": "Python 3",
   "language": "python",
   "name": "python3"
  },
  "language_info": {
   "codemirror_mode": {
    "name": "ipython",
    "version": 2
   },
   "file_extension": ".py",
   "mimetype": "text/x-python",
   "name": "python",
   "nbconvert_exporter": "python",
   "pygments_lexer": "ipython2",
   "version": "2.7.6"
  }
 },
 "nbformat": 4,
 "nbformat_minor": 5
}
