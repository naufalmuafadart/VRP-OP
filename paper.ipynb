{
 "cells": [
  {
   "metadata": {},
   "cell_type": "markdown",
   "source": "# Import dependency",
   "id": "f14a7873d7ea1a18"
  },
  {
   "metadata": {
    "ExecuteTime": {
     "end_time": "2025-05-01T06:52:01.678916Z",
     "start_time": "2025-05-01T06:52:00.749003Z"
    }
   },
   "cell_type": "code",
   "source": [
    "from dependency_injector import containers, providers\n",
    "import datetime\n",
    "import random\n",
    "\n",
    "# infrastructure\n",
    "from application.infrastructure.repository.PandasDataFrameRepository import PandasDataFrameRepository\n",
    "from application.infrastructure.repository.KMeansClusteringRepository import KMeansClusteringRepository\n",
    "from application.infrastructure.repository.VRPOPProblemRepository import VRPOPProblemRepository\n",
    "from application.infrastructure.repository.VRPProblemRepository import VRPProblemRepository\n",
    "from application.infrastructure.repository.RandomProblemRepository import RandomProblemRepository\n",
    "from application.infrastructure.repository.SAAlgorithmRepository import SAAlgorithmRepository\n",
    "\n",
    "# use case\n",
    "from application.use_case.RunVRPOPUseCase import RunVRPOPUseCase\n",
    "from application.use_case.RunVRPUseCase import RunVRPUseCase\n",
    "from application.use_case.RunRandomUseCase import RunRandomUseCase"
   ],
   "id": "initial_id",
   "outputs": [],
   "execution_count": 1
  },
  {
   "metadata": {},
   "cell_type": "markdown",
   "source": "# Membuat dependency injector",
   "id": "d441f31c273d75f1"
  },
  {
   "metadata": {
    "ExecuteTime": {
     "end_time": "2025-05-01T06:52:01.824442Z",
     "start_time": "2025-05-01T06:52:01.821207Z"
    }
   },
   "cell_type": "code",
   "source": [
    "class Container(containers.DeclarativeContainer):\n",
    "    data_frame_repository = providers.Singleton(PandasDataFrameRepository)\n",
    "    clustering_repository = providers.Singleton(KMeansClusteringRepository)\n",
    "    vrpop_repository = providers.Singleton(VRPOPProblemRepository)\n",
    "    vrp_repository = providers.Singleton(VRPProblemRepository)\n",
    "    greedy_repository = providers.Singleton(RandomProblemRepository)\n",
    "    sa_repository = providers.Singleton(SAAlgorithmRepository)\n",
    "\n",
    "container = Container()"
   ],
   "id": "70ddece5aaaaab3d",
   "outputs": [],
   "execution_count": 2
  },
  {
   "metadata": {},
   "cell_type": "markdown",
   "source": "# Data yang digunakan",
   "id": "a5fa8a5e8cb965b1"
  },
  {
   "metadata": {
    "ExecuteTime": {
     "end_time": "2025-05-01T06:52:01.838343Z",
     "start_time": "2025-05-01T06:52:01.835345Z"
    }
   },
   "cell_type": "code",
   "source": [
    "selected_pois = random.sample(range(1, 100), 40)  # This generates 40 unique random numbers from 1 to 99\n",
    "n_days = 5"
   ],
   "id": "4c3bd7b47036d862",
   "outputs": [],
   "execution_count": 3
  },
  {
   "metadata": {},
   "cell_type": "markdown",
   "source": "# VRP - OP",
   "id": "15ae67741873daf3"
  },
  {
   "metadata": {
    "ExecuteTime": {
     "end_time": "2025-05-01T06:52:22.521442Z",
     "start_time": "2025-05-01T06:52:01.848684Z"
    }
   },
   "cell_type": "code",
   "source": [
    "use_case = RunVRPOPUseCase(\n",
    "    container.data_frame_repository(),\n",
    "    container.vrpop_repository(),\n",
    "    container.sa_repository()\n",
    ")\n",
    "\n",
    "now = datetime.datetime.now()\n",
    "routes, total_quality, n_poi, duration_utilization = use_case.execute(\n",
    "    selected_pois,\n",
    "    n_days,\n",
    "    101 # hotel id\n",
    ")\n",
    "duration = datetime.datetime.now() - now\n",
    "\n",
    "print('Routes')\n",
    "for route in routes:\n",
    "    print(route)\n",
    "print('==============')\n",
    "print('Total Quality       :', total_quality)\n",
    "print('# POI               :', n_poi)\n",
    "print('Duration Utilization:', duration_utilization)\n",
    "print('Running Time        :', duration)"
   ],
   "id": "1fa2fbc0c9a8b38b",
   "outputs": [
    {
     "name": "stdout",
     "output_type": "stream",
     "text": [
      "Routes\n",
      "[89, 77, 21, 37, 39, 48, 46]\n",
      "[71, 67, 22, 62, 74, 73]\n",
      "[2, 84, 50, 42, 75, 10, 27]\n",
      "[95, 94, 92, 36, 69, 58]\n",
      "[86, 13, 82, 57, 56, 55, 44]\n",
      "==============\n",
      "Total Quality       : 151.4\n",
      "# POI               : 33\n",
      "Duration Utilization: 33.616239316239316\n",
      "Running Time        : 0:00:20.668706\n"
     ]
    }
   ],
   "execution_count": 4
  },
  {
   "metadata": {},
   "cell_type": "markdown",
   "source": "# VRP",
   "id": "d96a1664195b6d49"
  },
  {
   "metadata": {
    "ExecuteTime": {
     "end_time": "2025-05-01T06:52:33.466466Z",
     "start_time": "2025-05-01T06:52:22.527446Z"
    }
   },
   "cell_type": "code",
   "source": [
    "use_case = RunVRPUseCase(\n",
    "    container.data_frame_repository(),\n",
    "    container.vrpop_repository(),\n",
    "    container.sa_repository()\n",
    ")\n",
    "\n",
    "now = datetime.datetime.now()\n",
    "routes, total_quality, n_poi, duration_utilization = use_case.execute(\n",
    "    selected_pois,\n",
    "    n_days,\n",
    "    101 # hotel id\n",
    ")\n",
    "duration = datetime.datetime.now() - now\n",
    "\n",
    "print('Routes')\n",
    "for route in routes:\n",
    "    print(route)\n",
    "print('==============')\n",
    "print('Total Quality       :', total_quality)\n",
    "print('# POI               :', n_poi)\n",
    "print('Duration Utilization:', duration_utilization)\n",
    "print('Running Time        :', duration)"
   ],
   "id": "ef690c8c7299e04b",
   "outputs": [
    {
     "name": "stdout",
     "output_type": "stream",
     "text": [
      "Routes\n",
      "[62, 77, 22, 86, 44, 37, 71]\n",
      "[10, 39, 73, 95, 75, 55]\n",
      "[46, 42, 92, 50, 21, 14, 58]\n",
      "[48, 56, 27, 36, 2, 67]\n",
      "[13, 57, 84, 74, 94, 89]\n",
      "==============\n",
      "Total Quality       : 146.7\n",
      "# POI               : 32\n",
      "Duration Utilization: 29.699572649572648\n",
      "Running Time        : 0:00:10.934577\n"
     ]
    }
   ],
   "execution_count": 5
  },
  {
   "metadata": {},
   "cell_type": "markdown",
   "source": "# Random",
   "id": "36471425f893ead5"
  },
  {
   "metadata": {
    "ExecuteTime": {
     "end_time": "2025-05-01T06:52:34.269101Z",
     "start_time": "2025-05-01T06:52:33.492005Z"
    }
   },
   "cell_type": "code",
   "source": [
    "use_case = RunRandomUseCase(\n",
    "    container.data_frame_repository(),\n",
    "    container.greedy_repository()\n",
    ")\n",
    "\n",
    "now = datetime.datetime.now()\n",
    "routes, total_quality, n_poi, duration_utilization = use_case.execute(\n",
    "    selected_pois,\n",
    "    n_days,\n",
    "    101 # hotel id\n",
    ")\n",
    "duration = datetime.datetime.now() - now\n",
    "\n",
    "print('Routes')\n",
    "for route in routes:\n",
    "    print(route)\n",
    "print('==============')\n",
    "print('Total Quality       :', total_quality)\n",
    "print('# POI               :', n_poi)\n",
    "print('Duration Utilization:', duration_utilization)\n",
    "print('Running Time        :', duration)"
   ],
   "id": "1a8b0a4302a3437f",
   "outputs": [
    {
     "name": "stdout",
     "output_type": "stream",
     "text": [
      "[[21, 82, 50, 71, 86, 62, 22], [73, 48, 27, 2, 56, 36, 57], [90, 77, 89, 39, 44, 37], [94, 46, 74, 92, 69, 42], [13, 75, 95, 10, 67, 55, 84]]\n",
      "Routes\n",
      "[21, 82, 50, 71, 86, 62, 22]\n",
      "[73, 48, 27, 2, 56, 36, 57]\n",
      "[90, 77, 89, 39, 44, 37]\n",
      "[94, 46, 74, 92, 69, 42]\n",
      "[13, 75, 95, 10, 67, 55, 84]\n",
      "==============\n",
      "Total Quality       : 151.3\n",
      "# POI               : 33\n",
      "Duration Utilization: 27.047435897435896\n",
      "Running Time        : 0:00:00.773095\n"
     ]
    }
   ],
   "execution_count": 6
  },
  {
   "metadata": {},
   "cell_type": "markdown",
   "source": "# Greedy",
   "id": "a0a9e5abe9010a13"
  },
  {
   "metadata": {
    "ExecuteTime": {
     "end_time": "2025-05-01T06:52:34.275305Z",
     "start_time": "2025-05-01T06:52:34.273126Z"
    }
   },
   "cell_type": "code",
   "source": "",
   "id": "2c851d16b44b06d1",
   "outputs": [],
   "execution_count": null
  }
 ],
 "metadata": {
  "kernelspec": {
   "display_name": "Python 3",
   "language": "python",
   "name": "python3"
  },
  "language_info": {
   "codemirror_mode": {
    "name": "ipython",
    "version": 2
   },
   "file_extension": ".py",
   "mimetype": "text/x-python",
   "name": "python",
   "nbconvert_exporter": "python",
   "pygments_lexer": "ipython2",
   "version": "2.7.6"
  }
 },
 "nbformat": 4,
 "nbformat_minor": 5
}
