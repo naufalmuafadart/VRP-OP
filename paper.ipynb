{
 "cells": [
  {
   "metadata": {},
   "cell_type": "markdown",
   "source": "# Import dependency",
   "id": "f14a7873d7ea1a18"
  },
  {
   "metadata": {
    "ExecuteTime": {
     "end_time": "2025-05-01T07:20:32.913302Z",
     "start_time": "2025-05-01T07:20:32.146463Z"
    }
   },
   "cell_type": "code",
   "source": [
    "from dependency_injector import containers, providers\n",
    "import datetime\n",
    "import random\n",
    "\n",
    "# infrastructure\n",
    "from application.infrastructure.repository.PandasDataFrameRepository import PandasDataFrameRepository\n",
    "from application.infrastructure.repository.KMeansClusteringRepository import KMeansClusteringRepository\n",
    "from application.infrastructure.repository.VRPOPProblemRepository import VRPOPProblemRepository\n",
    "from application.infrastructure.repository.VRPProblemRepository import VRPProblemRepository\n",
    "from application.infrastructure.repository.RandomProblemRepository import RandomProblemRepository\n",
    "from application.infrastructure.repository.GreedyProblemRepository import GreedyProblemRepository\n",
    "from application.infrastructure.repository.SAAlgorithmRepository import SAAlgorithmRepository\n",
    "\n",
    "# use case\n",
    "from application.use_case.RunVRPOPUseCase import RunVRPOPUseCase\n",
    "from application.use_case.RunVRPUseCase import RunVRPUseCase\n",
    "from application.use_case.RunRandomUseCase import RunRandomUseCase\n",
    "from application.use_case.RunGreedyUseCase import RunGreedyUseCase"
   ],
   "id": "initial_id",
   "outputs": [],
   "execution_count": 1
  },
  {
   "metadata": {},
   "cell_type": "markdown",
   "source": "# Membuat dependency injector",
   "id": "d441f31c273d75f1"
  },
  {
   "metadata": {
    "ExecuteTime": {
     "end_time": "2025-05-01T07:20:33.030351Z",
     "start_time": "2025-05-01T07:20:33.026963Z"
    }
   },
   "cell_type": "code",
   "source": [
    "class Container(containers.DeclarativeContainer):\n",
    "    data_frame_repository = providers.Singleton(PandasDataFrameRepository)\n",
    "    clustering_repository = providers.Singleton(KMeansClusteringRepository)\n",
    "    vrpop_repository = providers.Singleton(VRPOPProblemRepository)\n",
    "    vrp_repository = providers.Singleton(VRPProblemRepository)\n",
    "    random_repository = providers.Singleton(RandomProblemRepository)\n",
    "    greedy_repository = providers.Singleton(GreedyProblemRepository)\n",
    "    sa_repository = providers.Singleton(SAAlgorithmRepository)\n",
    "\n",
    "container = Container()"
   ],
   "id": "70ddece5aaaaab3d",
   "outputs": [],
   "execution_count": 2
  },
  {
   "metadata": {},
   "cell_type": "markdown",
   "source": "# Data yang digunakan",
   "id": "a5fa8a5e8cb965b1"
  },
  {
   "metadata": {
    "ExecuteTime": {
     "end_time": "2025-05-01T07:20:33.039338Z",
     "start_time": "2025-05-01T07:20:33.036449Z"
    }
   },
   "cell_type": "code",
   "source": [
    "selected_pois = random.sample(range(1, 100), 40)  # This generates 40 unique random numbers from 1 to 99\n",
    "n_days = 5"
   ],
   "id": "4c3bd7b47036d862",
   "outputs": [],
   "execution_count": 3
  },
  {
   "metadata": {},
   "cell_type": "markdown",
   "source": "# VRP - OP",
   "id": "15ae67741873daf3"
  },
  {
   "metadata": {
    "ExecuteTime": {
     "end_time": "2025-05-01T07:20:52.587804Z",
     "start_time": "2025-05-01T07:20:33.047957Z"
    }
   },
   "cell_type": "code",
   "source": [
    "use_case = RunVRPOPUseCase(\n",
    "    container.data_frame_repository(),\n",
    "    container.vrpop_repository(),\n",
    "    container.sa_repository()\n",
    ")\n",
    "\n",
    "now = datetime.datetime.now()\n",
    "routes, total_quality, n_poi, duration_utilization = use_case.execute(\n",
    "    selected_pois,\n",
    "    n_days,\n",
    "    101 # hotel id\n",
    ")\n",
    "duration = datetime.datetime.now() - now\n",
    "\n",
    "print('Routes')\n",
    "for route in routes:\n",
    "    print(route)\n",
    "print('==============')\n",
    "print('Total Quality       :', total_quality)\n",
    "print('# POI               :', n_poi)\n",
    "print('Duration Utilization:', duration_utilization)\n",
    "print('Running Time        :', duration)"
   ],
   "id": "1fa2fbc0c9a8b38b",
   "outputs": [
    {
     "name": "stdout",
     "output_type": "stream",
     "text": [
      "Routes\n",
      "[26, 77, 96, 64, 30, 1]\n",
      "[2, 32, 79, 86, 11, 99, 56]\n",
      "[66, 63, 78, 42, 75, 49, 74]\n",
      "[59, 57, 71, 29, 7, 28]\n",
      "[31, 45, 70, 84, 83, 88]\n",
      "==============\n",
      "Total Quality       : 144.7\n",
      "# POI               : 32\n",
      "Duration Utilization: 26.014102564102565\n",
      "Running Time        : 0:00:19.537037\n"
     ]
    }
   ],
   "execution_count": 4
  },
  {
   "metadata": {},
   "cell_type": "markdown",
   "source": "# VRP",
   "id": "d96a1664195b6d49"
  },
  {
   "metadata": {
    "ExecuteTime": {
     "end_time": "2025-05-01T07:21:01.912419Z",
     "start_time": "2025-05-01T07:20:52.613572Z"
    }
   },
   "cell_type": "code",
   "source": [
    "use_case = RunVRPUseCase(\n",
    "    container.data_frame_repository(),\n",
    "    container.vrpop_repository(),\n",
    "    container.sa_repository()\n",
    ")\n",
    "\n",
    "now = datetime.datetime.now()\n",
    "routes, total_quality, n_poi, duration_utilization = use_case.execute(\n",
    "    selected_pois,\n",
    "    n_days,\n",
    "    101 # hotel id\n",
    ")\n",
    "duration = datetime.datetime.now() - now\n",
    "\n",
    "print('Routes')\n",
    "for route in routes:\n",
    "    print(route)\n",
    "print('==============')\n",
    "print('Total Quality       :', total_quality)\n",
    "print('# POI               :', n_poi)\n",
    "print('Duration Utilization:', duration_utilization)\n",
    "print('Running Time        :', duration)"
   ],
   "id": "ef690c8c7299e04b",
   "outputs": [
    {
     "name": "stdout",
     "output_type": "stream",
     "text": [
      "Routes\n",
      "[7, 63, 78, 70, 88, 1, 83]\n",
      "[79, 56, 32, 66, 86, 96, 49]\n",
      "[75, 31, 42, 64, 28]\n",
      "[45, 59, 26, 68, 57, 71]\n",
      "[90, 2, 84, 77, 99, 30, 74]\n",
      "==============\n",
      "Total Quality       : 144.89999999999998\n",
      "# POI               : 32\n",
      "Duration Utilization: 25.711538461538463\n",
      "Running Time        : 0:00:09.295062\n"
     ]
    }
   ],
   "execution_count": 5
  },
  {
   "metadata": {},
   "cell_type": "markdown",
   "source": "# Random",
   "id": "36471425f893ead5"
  },
  {
   "metadata": {
    "ExecuteTime": {
     "end_time": "2025-05-01T07:21:02.397018Z",
     "start_time": "2025-05-01T07:21:01.919364Z"
    }
   },
   "cell_type": "code",
   "source": [
    "use_case = RunRandomUseCase(\n",
    "    container.data_frame_repository(),\n",
    "    container.random_repository()\n",
    ")\n",
    "\n",
    "now = datetime.datetime.now()\n",
    "routes, total_quality, n_poi, duration_utilization = use_case.execute(\n",
    "    selected_pois,\n",
    "    n_days,\n",
    "    101 # hotel id\n",
    ")\n",
    "duration = datetime.datetime.now() - now\n",
    "\n",
    "print('Routes')\n",
    "for route in routes:\n",
    "    print(route)\n",
    "print('==============')\n",
    "print('Total Quality       :', total_quality)\n",
    "print('# POI               :', n_poi)\n",
    "print('Duration Utilization:', duration_utilization)\n",
    "print('Running Time        :', duration)"
   ],
   "id": "1a8b0a4302a3437f",
   "outputs": [
    {
     "name": "stdout",
     "output_type": "stream",
     "text": [
      "[[32, 86, 30, 75, 64, 26], [88, 29, 49, 96, 71, 7], [42, 1, 57, 79, 66, 83], [56, 84, 11, 99, 76, 63], [87, 45, 2, 28, 74, 59]]\n",
      "Routes\n",
      "[32, 86, 30, 75, 64, 26]\n",
      "[88, 29, 49, 96, 71, 7]\n",
      "[42, 1, 57, 79, 66, 83]\n",
      "[56, 84, 11, 99, 76, 63]\n",
      "[87, 45, 2, 28, 74, 59]\n",
      "==============\n",
      "Total Quality       : 135.60000000000002\n",
      "# POI               : 30\n",
      "Duration Utilization: 24.5017094017094\n",
      "Running Time        : 0:00:00.473358\n"
     ]
    }
   ],
   "execution_count": 6
  },
  {
   "metadata": {},
   "cell_type": "markdown",
   "source": "# Greedy",
   "id": "a0a9e5abe9010a13"
  },
  {
   "metadata": {
    "ExecuteTime": {
     "end_time": "2025-05-01T07:21:03.801213Z",
     "start_time": "2025-05-01T07:21:02.411373Z"
    }
   },
   "cell_type": "code",
   "source": [
    "use_case = RunGreedyUseCase(\n",
    "    container.data_frame_repository(),\n",
    "    container.greedy_repository()\n",
    ")\n",
    "\n",
    "now = datetime.datetime.now()\n",
    "routes, total_quality, n_poi, duration_utilization = use_case.execute(\n",
    "    selected_pois,\n",
    "    n_days,\n",
    "    101 # hotel id\n",
    ")\n",
    "duration = datetime.datetime.now() - now\n",
    "\n",
    "print('Routes')\n",
    "for route in routes:\n",
    "    print(route)\n",
    "print('==============')\n",
    "print('Total Quality       :', total_quality)\n",
    "print('# POI               :', n_poi)\n",
    "print('Duration Utilization:', duration_utilization)\n",
    "print('Running Time        :', duration)"
   ],
   "id": "2c851d16b44b06d1",
   "outputs": [
    {
     "name": "stdout",
     "output_type": "stream",
     "text": [
      "[[1, 45, 63, 84, 57, 28, 49], [7, 64, 68, 11, 66, 42, 30], [74, 75, 77, 26, 71, 83], [88, 96, 78, 32, 70, 86], [2, 59, 79, 56, 76, 29]]\n",
      "Routes\n",
      "[1, 45, 63, 84, 57, 28, 49]\n",
      "[7, 64, 68, 11, 66, 42, 30]\n",
      "[74, 75, 77, 26, 71, 83]\n",
      "[88, 96, 78, 32, 70, 86]\n",
      "[2, 59, 79, 56, 76, 29]\n",
      "==============\n",
      "Total Quality       : 145.10000000000002\n",
      "# POI               : 32\n",
      "Duration Utilization: 25.55769230769231\n",
      "Running Time        : 0:00:01.385951\n"
     ]
    }
   ],
   "execution_count": 7
  }
 ],
 "metadata": {
  "kernelspec": {
   "display_name": "Python 3",
   "language": "python",
   "name": "python3"
  },
  "language_info": {
   "codemirror_mode": {
    "name": "ipython",
    "version": 2
   },
   "file_extension": ".py",
   "mimetype": "text/x-python",
   "name": "python",
   "nbconvert_exporter": "python",
   "pygments_lexer": "ipython2",
   "version": "2.7.6"
  }
 },
 "nbformat": 4,
 "nbformat_minor": 5
}
