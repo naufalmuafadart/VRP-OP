{
 "cells": [
  {
   "metadata": {},
   "cell_type": "markdown",
   "source": "# Import dependency",
   "id": "f14a7873d7ea1a18"
  },
  {
   "metadata": {
    "ExecuteTime": {
     "end_time": "2025-05-01T06:01:22.383264Z",
     "start_time": "2025-05-01T06:01:22.377649Z"
    }
   },
   "cell_type": "code",
   "source": [
    "from dependency_injector import containers, providers\n",
    "import datetime\n",
    "import random\n",
    "\n",
    "# infrastructure\n",
    "from application.infrastructure.repository.PandasDataFrameRepository import PandasDataFrameRepository\n",
    "from application.infrastructure.repository.KMeansClusteringRepository import KMeansClusteringRepository\n",
    "from application.infrastructure.repository.VRPOPProblemRepository import VRPOPProblemRepository\n",
    "from application.infrastructure.repository.VRPProblemRepository import VRPProblemRepository\n",
    "from application.infrastructure.repository.SAAlgorithmRepository import SAAlgorithmRepository\n",
    "\n",
    "# use case\n",
    "from application.use_case.RunVRPOPUseCase import RunVRPOPUseCase\n",
    "from application.use_case.RunVRPUseCase import RunVRPUseCase"
   ],
   "id": "initial_id",
   "outputs": [],
   "execution_count": 5
  },
  {
   "metadata": {},
   "cell_type": "markdown",
   "source": "# Membuat dependency injector",
   "id": "d441f31c273d75f1"
  },
  {
   "metadata": {
    "ExecuteTime": {
     "end_time": "2025-05-01T06:01:22.415736Z",
     "start_time": "2025-05-01T06:01:22.408199Z"
    }
   },
   "cell_type": "code",
   "source": [
    "class Container(containers.DeclarativeContainer):\n",
    "    data_frame_repository = providers.Singleton(PandasDataFrameRepository)\n",
    "    clustering_repository = providers.Singleton(KMeansClusteringRepository)\n",
    "    vrpop_repository = providers.Singleton(VRPOPProblemRepository)\n",
    "    vrp_repository = providers.Singleton(VRPProblemRepository)\n",
    "    sa_repository = providers.Singleton(SAAlgorithmRepository)\n",
    "\n",
    "container = Container()"
   ],
   "id": "70ddece5aaaaab3d",
   "outputs": [],
   "execution_count": 6
  },
  {
   "metadata": {},
   "cell_type": "markdown",
   "source": "# Data yang digunakan",
   "id": "a5fa8a5e8cb965b1"
  },
  {
   "metadata": {
    "ExecuteTime": {
     "end_time": "2025-05-01T06:01:22.436329Z",
     "start_time": "2025-05-01T06:01:22.433325Z"
    }
   },
   "cell_type": "code",
   "source": [
    "selected_pois = random.sample(range(1, 100), 40)  # This generates 40 unique random numbers from 1 to 99\n",
    "n_days = 5"
   ],
   "id": "4c3bd7b47036d862",
   "outputs": [],
   "execution_count": 7
  },
  {
   "metadata": {},
   "cell_type": "markdown",
   "source": "# VRP - OP",
   "id": "15ae67741873daf3"
  },
  {
   "metadata": {
    "ExecuteTime": {
     "end_time": "2025-05-01T06:01:42.085756Z",
     "start_time": "2025-05-01T06:01:22.450346Z"
    }
   },
   "cell_type": "code",
   "source": [
    "use_case = RunVRPOPUseCase(\n",
    "    container.data_frame_repository(),\n",
    "    container.vrpop_repository(),\n",
    "    container.sa_repository()\n",
    ")\n",
    "\n",
    "now = datetime.datetime.now()\n",
    "routes, total_quality, n_poi, duration_utilization = use_case.execute(\n",
    "    selected_pois,\n",
    "    n_days,\n",
    "    101 # hotel id\n",
    ")\n",
    "duration = datetime.datetime.now() - now\n",
    "\n",
    "print('Routes')\n",
    "for route in routes:\n",
    "    print(route)\n",
    "print('==============')\n",
    "print('Total Quality       :', total_quality)\n",
    "print('# POI               :', n_poi)\n",
    "print('Duration Utilization:', duration_utilization)\n",
    "print('Running Time        :', duration)"
   ],
   "id": "1fa2fbc0c9a8b38b",
   "outputs": [
    {
     "name": "stdout",
     "output_type": "stream",
     "text": [
      "Routes\n",
      "[87, 95, 94, 88, 14, 22, 59]\n",
      "[81, 93, 64, 28, 7, 5, 9]\n",
      "[27, 35, 68, 75, 24, 21, 92]\n",
      "[50, 46, 52, 86, 84, 42, 15]\n",
      "[30, 56, 49, 60, 39, 48]\n",
      "==============\n",
      "Total Quality       : 154.3\n",
      "# POI               : 34\n",
      "Duration Utilization: 27.76794871794872\n",
      "Running Time        : 0:00:19.631319\n"
     ]
    }
   ],
   "execution_count": 8
  },
  {
   "metadata": {},
   "cell_type": "markdown",
   "source": "# VRP",
   "id": "d96a1664195b6d49"
  },
  {
   "metadata": {
    "ExecuteTime": {
     "end_time": "2025-05-01T06:01:53.065818Z",
     "start_time": "2025-05-01T06:01:42.089695Z"
    }
   },
   "cell_type": "code",
   "source": [
    "use_case = RunVRPUseCase(\n",
    "    container.data_frame_repository(),\n",
    "    container.vrpop_repository(),\n",
    "    container.sa_repository()\n",
    ")\n",
    "\n",
    "now = datetime.datetime.now()\n",
    "routes, total_quality, n_poi, duration_utilization = use_case.execute(\n",
    "    selected_pois,\n",
    "    n_days,\n",
    "    101 # hotel id\n",
    ")\n",
    "duration = datetime.datetime.now() - now\n",
    "\n",
    "print('Routes')\n",
    "for route in routes:\n",
    "    print(route)\n",
    "print('==============')\n",
    "print('Total Quality       :', total_quality)\n",
    "print('# POI               :', n_poi)\n",
    "print('Duration Utilization:', duration_utilization)\n",
    "print('Running Time        :', duration)"
   ],
   "id": "ef690c8c7299e04b",
   "outputs": [
    {
     "name": "stdout",
     "output_type": "stream",
     "text": [
      "Routes\n",
      "[81, 21, 87, 92, 72, 86, 60]\n",
      "[39, 88, 84, 35, 48, 22, 95]\n",
      "[64, 75, 94, 49, 28, 46, 59]\n",
      "[27, 52, 15, 30, 24, 9, 14, 5]\n",
      "[19, 68, 56, 93, 50, 7, 42]\n",
      "==============\n",
      "Total Quality       : 163.3\n",
      "# POI               : 36\n",
      "Duration Utilization: 27.305128205128206\n",
      "Running Time        : 0:00:10.973047\n"
     ]
    }
   ],
   "execution_count": 9
  }
 ],
 "metadata": {
  "kernelspec": {
   "display_name": "Python 3",
   "language": "python",
   "name": "python3"
  },
  "language_info": {
   "codemirror_mode": {
    "name": "ipython",
    "version": 2
   },
   "file_extension": ".py",
   "mimetype": "text/x-python",
   "name": "python",
   "nbconvert_exporter": "python",
   "pygments_lexer": "ipython2",
   "version": "2.7.6"
  }
 },
 "nbformat": 4,
 "nbformat_minor": 5
}
