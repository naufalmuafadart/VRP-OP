{
 "cells": [
  {
   "metadata": {},
   "cell_type": "markdown",
   "source": "# Import dependency",
   "id": "f14a7873d7ea1a18"
  },
  {
   "metadata": {
    "ExecuteTime": {
     "end_time": "2025-05-01T08:14:29.365172Z",
     "start_time": "2025-05-01T08:14:28.558385Z"
    }
   },
   "cell_type": "code",
   "source": [
    "from dependency_injector import containers, providers\n",
    "import datetime\n",
    "import random\n",
    "\n",
    "# infrastructure\n",
    "from application.infrastructure.repository.PandasDataFrameRepository import PandasDataFrameRepository\n",
    "from application.infrastructure.repository.KMeansClusteringRepository import KMeansClusteringRepository\n",
    "from application.infrastructure.repository.VRPOPProblemRepository import VRPOPProblemRepository\n",
    "from application.infrastructure.repository.VRPProblemRepository import VRPProblemRepository\n",
    "from application.infrastructure.repository.RandomProblemRepository import RandomProblemRepository\n",
    "from application.infrastructure.repository.GreedyProblemRepository import GreedyProblemRepository\n",
    "from application.infrastructure.repository.SAAlgorithmRepository import SAAlgorithmRepository\n",
    "\n",
    "# use case\n",
    "from application.use_case.RunVRPOPUseCase import RunVRPOPUseCase\n",
    "from application.use_case.RunVRPUseCase import RunVRPUseCase\n",
    "from application.use_case.RunRandomUseCase import RunRandomUseCase\n",
    "from application.use_case.RunGreedyUseCase import RunGreedyUseCase"
   ],
   "id": "initial_id",
   "outputs": [],
   "execution_count": 1
  },
  {
   "metadata": {},
   "cell_type": "markdown",
   "source": "# Membuat dependency injector",
   "id": "d441f31c273d75f1"
  },
  {
   "metadata": {
    "ExecuteTime": {
     "end_time": "2025-05-01T08:14:29.478408Z",
     "start_time": "2025-05-01T08:14:29.475517Z"
    }
   },
   "cell_type": "code",
   "source": [
    "class Container(containers.DeclarativeContainer):\n",
    "    data_frame_repository = providers.Singleton(PandasDataFrameRepository)\n",
    "    clustering_repository = providers.Singleton(KMeansClusteringRepository)\n",
    "    vrpop_repository = providers.Singleton(VRPOPProblemRepository)\n",
    "    vrp_repository = providers.Singleton(VRPProblemRepository)\n",
    "    random_repository = providers.Singleton(RandomProblemRepository)\n",
    "    greedy_repository = providers.Singleton(GreedyProblemRepository)\n",
    "    sa_repository = providers.Singleton(SAAlgorithmRepository)\n",
    "\n",
    "container = Container()"
   ],
   "id": "70ddece5aaaaab3d",
   "outputs": [],
   "execution_count": 2
  },
  {
   "metadata": {},
   "cell_type": "markdown",
   "source": "# Data yang digunakan",
   "id": "a5fa8a5e8cb965b1"
  },
  {
   "metadata": {
    "ExecuteTime": {
     "end_time": "2025-05-01T08:14:29.488180Z",
     "start_time": "2025-05-01T08:14:29.484917Z"
    }
   },
   "cell_type": "code",
   "source": [
    "n_testing = 100\n",
    "list_of_pois = []\n",
    "for i in range(n_testing):\n",
    "    list_of_pois.append(random.sample(range(1, 100), 40))\n",
    "n_days = 5\n",
    "hotel_id = 101"
   ],
   "id": "4c3bd7b47036d862",
   "outputs": [],
   "execution_count": 3
  },
  {
   "metadata": {},
   "cell_type": "markdown",
   "source": "# VRP - OP",
   "id": "15ae67741873daf3"
  },
  {
   "metadata": {
    "ExecuteTime": {
     "end_time": "2025-05-01T08:46:07.559091Z",
     "start_time": "2025-05-01T08:14:29.496561Z"
    }
   },
   "cell_type": "code",
   "source": [
    "use_case = RunVRPOPUseCase(\n",
    "    container.data_frame_repository(),\n",
    "    container.vrpop_repository(),\n",
    "    container.sa_repository()\n",
    ")\n",
    "\n",
    "sum_quality = 0\n",
    "sum_n_poi = 0\n",
    "sum_duration_utilization = 0\n",
    "sum_duration = datetime.timedelta(0)\n",
    "\n",
    "for i in range(n_testing):\n",
    "    now = datetime.datetime.now()\n",
    "    routes, total_quality, n_poi, duration_utilization = use_case.execute(\n",
    "        list_of_pois[0],\n",
    "        n_days,\n",
    "        hotel_id\n",
    "    )\n",
    "    duration = datetime.datetime.now() - now\n",
    "\n",
    "    sum_quality += total_quality\n",
    "    sum_n_poi += n_poi\n",
    "    sum_duration_utilization += duration_utilization\n",
    "    sum_duration += duration\n",
    "\n",
    "print('==============')\n",
    "print('Total Quality       :', sum_quality / n_testing)\n",
    "print('# POI               :', sum_n_poi / n_testing)\n",
    "print('Duration Utilization:', sum_duration_utilization / n_testing)\n",
    "print('Running Time        :', sum_duration / n_testing)"
   ],
   "id": "1fa2fbc0c9a8b38b",
   "outputs": [
    {
     "name": "stdout",
     "output_type": "stream",
     "text": [
      "==============\n",
      "Total Quality       : 145.48800000000006\n",
      "# POI               : 32.11\n",
      "Duration Utilization: 84.74150854700855\n",
      "Running Time        : 0:00:18.980563\n"
     ]
    }
   ],
   "execution_count": 4
  },
  {
   "metadata": {},
   "cell_type": "markdown",
   "source": "# VRP",
   "id": "d96a1664195b6d49"
  },
  {
   "metadata": {
    "ExecuteTime": {
     "end_time": "2025-05-01T09:00:39.841455Z",
     "start_time": "2025-05-01T08:46:07.602459Z"
    }
   },
   "cell_type": "code",
   "source": [
    "use_case = RunVRPUseCase(\n",
    "    container.data_frame_repository(),\n",
    "    container.vrpop_repository(),\n",
    "    container.sa_repository()\n",
    ")\n",
    "\n",
    "sum_quality = 0\n",
    "sum_n_poi = 0\n",
    "sum_duration_utilization = 0\n",
    "sum_duration = datetime.timedelta(0)\n",
    "\n",
    "for i in range(n_testing):\n",
    "    now = datetime.datetime.now()\n",
    "    routes, total_quality, n_poi, duration_utilization = use_case.execute(\n",
    "        list_of_pois[0],\n",
    "        n_days,\n",
    "        hotel_id\n",
    "    )\n",
    "    duration = datetime.datetime.now() - now\n",
    "    sum_quality += total_quality\n",
    "    sum_n_poi += n_poi\n",
    "    sum_duration_utilization += duration_utilization\n",
    "    sum_duration += duration\n",
    "\n",
    "print('==============')\n",
    "print('Total Quality       :', sum_quality / n_testing)\n",
    "print('# POI               :', sum_n_poi / n_testing)\n",
    "print('Duration Utilization:', sum_duration_utilization / n_testing)\n",
    "print('Running Time        :', sum_duration / n_testing)"
   ],
   "id": "ef690c8c7299e04b",
   "outputs": [
    {
     "name": "stdout",
     "output_type": "stream",
     "text": [
      "==============\n",
      "Total Quality       : 144.65199999999996\n",
      "# POI               : 31.93\n",
      "Duration Utilization: 84.30876068376067\n",
      "Running Time        : 0:00:08.722341\n"
     ]
    }
   ],
   "execution_count": 5
  },
  {
   "metadata": {},
   "cell_type": "markdown",
   "source": "# Random",
   "id": "36471425f893ead5"
  },
  {
   "metadata": {
    "ExecuteTime": {
     "end_time": "2025-05-01T09:01:39.574782Z",
     "start_time": "2025-05-01T09:00:39.922405Z"
    }
   },
   "cell_type": "code",
   "source": [
    "use_case = RunRandomUseCase(\n",
    "    container.data_frame_repository(),\n",
    "    container.random_repository()\n",
    ")\n",
    "\n",
    "sum_quality = 0\n",
    "sum_n_poi = 0\n",
    "sum_duration_utilization = 0\n",
    "sum_duration = datetime.timedelta(0)\n",
    "\n",
    "for i in range(n_testing):\n",
    "    now = datetime.datetime.now()\n",
    "    routes, total_quality, n_poi, duration_utilization = use_case.execute(\n",
    "        list_of_pois[0],\n",
    "        n_days,\n",
    "        hotel_id\n",
    "    )\n",
    "    duration = datetime.datetime.now() - now\n",
    "    sum_quality += total_quality\n",
    "    sum_n_poi += n_poi\n",
    "    sum_duration_utilization += duration_utilization\n",
    "    sum_duration += duration\n",
    "\n",
    "print('==============')\n",
    "print('Total Quality       :', sum_quality / n_testing)\n",
    "print('# POI               :', sum_n_poi / n_testing)\n",
    "print('Duration Utilization:', sum_duration_utilization / n_testing)\n",
    "print('Running Time        :', sum_duration / n_testing)"
   ],
   "id": "1a8b0a4302a3437f",
   "outputs": [
    {
     "name": "stdout",
     "output_type": "stream",
     "text": [
      "==============\n",
      "Total Quality       : 142.06499999999994\n",
      "# POI               : 31.36\n",
      "Duration Utilization: 80.01555982905982\n",
      "Running Time        : 0:00:00.596455\n"
     ]
    }
   ],
   "execution_count": 6
  },
  {
   "metadata": {},
   "cell_type": "markdown",
   "source": "# Greedy",
   "id": "a0a9e5abe9010a13"
  },
  {
   "metadata": {
    "ExecuteTime": {
     "end_time": "2025-05-01T09:03:45.239227Z",
     "start_time": "2025-05-01T09:01:39.697672Z"
    }
   },
   "cell_type": "code",
   "source": [
    "use_case = RunGreedyUseCase(\n",
    "    container.data_frame_repository(),\n",
    "    container.greedy_repository()\n",
    ")\n",
    "\n",
    "sum_quality = 0\n",
    "sum_n_poi = 0\n",
    "sum_duration_utilization = 0\n",
    "sum_duration = datetime.timedelta(0)\n",
    "\n",
    "for i in range(n_testing):\n",
    "    now = datetime.datetime.now()\n",
    "    routes, total_quality, n_poi, duration_utilization = use_case.execute(\n",
    "        list_of_pois[0],\n",
    "        n_days,\n",
    "        hotel_id\n",
    "    )\n",
    "    duration = datetime.datetime.now() - now\n",
    "    sum_quality += total_quality\n",
    "    sum_n_poi += n_poi\n",
    "    sum_duration_utilization += duration_utilization\n",
    "    sum_duration += duration\n",
    "\n",
    "print('==============')\n",
    "print('Total Quality       :', sum_quality / n_testing)\n",
    "print('# POI               :', sum_n_poi / n_testing)\n",
    "print('Duration Utilization:', sum_duration_utilization / n_testing)\n",
    "print('Running Time        :', sum_duration / n_testing)"
   ],
   "id": "2c851d16b44b06d1",
   "outputs": [
    {
     "name": "stdout",
     "output_type": "stream",
     "text": [
      "==============\n",
      "Total Quality       : 141.20000000000024\n",
      "# POI               : 31.0\n",
      "Duration Utilization: 83.11367521367532\n",
      "Running Time        : 0:00:01.255376\n"
     ]
    }
   ],
   "execution_count": 7
  }
 ],
 "metadata": {
  "kernelspec": {
   "display_name": "Python 3",
   "language": "python",
   "name": "python3"
  },
  "language_info": {
   "codemirror_mode": {
    "name": "ipython",
    "version": 2
   },
   "file_extension": ".py",
   "mimetype": "text/x-python",
   "name": "python",
   "nbconvert_exporter": "python",
   "pygments_lexer": "ipython2",
   "version": "2.7.6"
  }
 },
 "nbformat": 4,
 "nbformat_minor": 5
}
