{
 "cells": [
  {
   "metadata": {},
   "cell_type": "markdown",
   "source": "# Wilcoxon Rank-Sum Test (Mann-Whitney U Test)",
   "id": "9fe89a103b249a93"
  },
  {
   "metadata": {
    "ExecuteTime": {
     "end_time": "2025-05-24T07:57:56.115609Z",
     "start_time": "2025-05-24T07:57:56.112534Z"
    }
   },
   "cell_type": "code",
   "source": [
    "import numpy as np\n",
    "from scipy import stats\n",
    "import matplotlib.pyplot as plt\n",
    "import seaborn as sns\n",
    "\n",
    "# Set random seed for reproducibility\n",
    "np.random.seed(42)"
   ],
   "id": "48a710e1a2d4a46b",
   "outputs": [],
   "execution_count": 1
  },
  {
   "metadata": {
    "ExecuteTime": {
     "end_time": "2025-05-24T07:57:56.380710Z",
     "start_time": "2025-05-24T07:57:56.216585Z"
    }
   },
   "cell_type": "code",
   "source": [
    "from dependency_injector import containers, providers\n",
    "import datetime\n",
    "import random\n",
    "\n",
    "# infrastructure\n",
    "from application.infrastructure.repository.PandasDataFrameRepository import PandasDataFrameRepository\n",
    "from application.infrastructure.repository.KMeansClusteringRepository import KMeansClusteringRepository\n",
    "from application.infrastructure.repository.VRPOPProblemRepository import VRPOPProblemRepository\n",
    "from application.infrastructure.repository.VRPProblemRepository import VRPProblemRepository\n",
    "from application.infrastructure.repository.RandomProblemRepository import RandomProblemRepository\n",
    "from application.infrastructure.repository.GreedyProblemRepository import GreedyProblemRepository\n",
    "from application.infrastructure.repository.SAAlgorithmRepository import SAAlgorithmRepository\n",
    "\n",
    "# use case\n",
    "from application.use_case.RunVRPOPUseCase import RunVRPOPUseCase\n",
    "from application.use_case.RunVRPUseCase import RunVRPUseCase\n",
    "from application.use_case.RunRandomUseCase import RunRandomUseCase\n",
    "from application.use_case.RunGreedyUseCase import RunGreedyUseCase"
   ],
   "id": "defbd509f3a29e7",
   "outputs": [],
   "execution_count": 2
  },
  {
   "metadata": {},
   "cell_type": "markdown",
   "source": "create dependency injector",
   "id": "bd4cd5fb56862a6"
  },
  {
   "metadata": {
    "ExecuteTime": {
     "end_time": "2025-05-24T07:57:56.396555Z",
     "start_time": "2025-05-24T07:57:56.392255Z"
    }
   },
   "cell_type": "code",
   "source": [
    "class Container(containers.DeclarativeContainer):\n",
    "    data_frame_repository = providers.Singleton(PandasDataFrameRepository)\n",
    "    clustering_repository = providers.Singleton(KMeansClusteringRepository)\n",
    "    vrpop_repository = providers.Singleton(VRPOPProblemRepository)\n",
    "    vrp_repository = providers.Singleton(VRPProblemRepository)\n",
    "    random_repository = providers.Singleton(RandomProblemRepository)\n",
    "    greedy_repository = providers.Singleton(GreedyProblemRepository)\n",
    "    sa_repository = providers.Singleton(SAAlgorithmRepository)\n",
    "\n",
    "container = Container()"
   ],
   "id": "c04421d3b7dd1ac3",
   "outputs": [],
   "execution_count": 3
  },
  {
   "metadata": {},
   "cell_type": "markdown",
   "source": "testing data",
   "id": "a7548b79b4ed5aca"
  },
  {
   "metadata": {
    "ExecuteTime": {
     "end_time": "2025-05-24T07:57:56.406800Z",
     "start_time": "2025-05-24T07:57:56.403559Z"
    }
   },
   "cell_type": "code",
   "source": [
    "n_testing = 10\n",
    "list_of_pois = []\n",
    "for i in range(n_testing):\n",
    "    list_of_pois.append(random.sample(range(1, 100), 40))\n",
    "n_days = 5\n",
    "hotel_id = 101"
   ],
   "id": "49a72ff43b4107b5",
   "outputs": [],
   "execution_count": 4
  },
  {
   "metadata": {},
   "cell_type": "markdown",
   "source": "# Get testing result",
   "id": "4121823afe8508a5"
  },
  {
   "metadata": {},
   "cell_type": "markdown",
   "source": "## VRP-OP",
   "id": "8c42da4ff8ab79c7"
  },
  {
   "metadata": {
    "ExecuteTime": {
     "end_time": "2025-05-24T08:01:11.725137Z",
     "start_time": "2025-05-24T07:57:56.414524Z"
    }
   },
   "cell_type": "code",
   "source": [
    "use_case = RunVRPOPUseCase(\n",
    "    container.data_frame_repository(),\n",
    "    container.vrpop_repository(),\n",
    "    container.sa_repository()\n",
    ")\n",
    "\n",
    "alfa = 0.7\n",
    "beta = 0.3\n",
    "\n",
    "sum_fitness_vrp_op = 0\n",
    "sum_n_poi_vrp_op = 0\n",
    "sum_duration_utilization_vrp_op = 0\n",
    "sum_duration_vrp_op = datetime.timedelta(0)\n",
    "\n",
    "list_fitness_vrp_op = []\n",
    "list_n_poi_vrp_op = []\n",
    "list_duration_utilization_vrp_op = []\n",
    "list_duration_vrp_op = []\n",
    "\n",
    "for i in range(n_testing):\n",
    "    now = datetime.datetime.now()\n",
    "    routes, fitness, n_poi, duration_utilization = use_case.execute(\n",
    "        list_of_pois[0],\n",
    "        n_days,\n",
    "        hotel_id,\n",
    "        alfa,\n",
    "        beta\n",
    "    )\n",
    "    duration = datetime.datetime.now() - now\n",
    "\n",
    "    sum_fitness_vrp_op += fitness\n",
    "    sum_n_poi_vrp_op += n_poi\n",
    "    sum_duration_utilization_vrp_op += duration_utilization\n",
    "    sum_duration_vrp_op += duration\n",
    "\n",
    "    list_fitness_vrp_op.append(fitness)\n",
    "    list_n_poi_vrp_op.append(n_poi)\n",
    "    list_duration_utilization_vrp_op.append(duration_utilization)\n",
    "    list_duration_vrp_op.append(duration)\n",
    "\n",
    "print('==============')\n",
    "print('Total Quality       :', sum_fitness_vrp_op / n_testing)\n",
    "print('# POI               :', sum_n_poi_vrp_op / n_testing)\n",
    "print('Duration Utilization:', sum_duration_utilization_vrp_op / n_testing)\n",
    "print('Running Time        :', sum_duration_vrp_op / n_testing)"
   ],
   "id": "16237c7c26e89b14",
   "outputs": [
    {
     "name": "stdout",
     "output_type": "stream",
     "text": [
      "==============\n",
      "Total Quality       : 0.47752255967385293\n",
      "# POI               : 32.8\n",
      "Duration Utilization: 83.30910256410256\n",
      "Running Time        : 0:00:19.530500\n"
     ]
    }
   ],
   "execution_count": 5
  },
  {
   "metadata": {},
   "cell_type": "markdown",
   "source": "## VRP",
   "id": "d5945188d312429"
  },
  {
   "metadata": {
    "ExecuteTime": {
     "end_time": "2025-05-24T08:02:47.830091Z",
     "start_time": "2025-05-24T08:01:11.747510Z"
    }
   },
   "cell_type": "code",
   "source": [
    "use_case = RunVRPUseCase(\n",
    "    container.data_frame_repository(),\n",
    "    container.vrpop_repository(),\n",
    "    container.sa_repository()\n",
    ")\n",
    "\n",
    "sum_quality_vrp = 0\n",
    "sum_n_poi_vrp = 0\n",
    "sum_duration_utilization_vrp = 0\n",
    "sum_duration_vrp = datetime.timedelta(0)\n",
    "\n",
    "list_quality_vrp = []\n",
    "list_n_poi_vrp = []\n",
    "list_duration_utilization_vrp = []\n",
    "list_duration_vrp = []\n",
    "\n",
    "for i in range(n_testing):\n",
    "    now = datetime.datetime.now()\n",
    "    routes, total_quality, n_poi, duration_utilization = use_case.execute(\n",
    "        list_of_pois[0],\n",
    "        n_days,\n",
    "        hotel_id,\n",
    "        alfa,\n",
    "        beta\n",
    "    )\n",
    "    duration = datetime.datetime.now() - now\n",
    "    sum_quality_vrp += total_quality\n",
    "    sum_n_poi_vrp += n_poi\n",
    "    sum_duration_utilization_vrp += duration_utilization\n",
    "    sum_duration_vrp += duration\n",
    "\n",
    "    list_quality_vrp.append(total_quality)\n",
    "    list_n_poi_vrp.append(n_poi)\n",
    "    list_duration_utilization_vrp.append(duration_utilization)\n",
    "    list_duration_vrp.append(duration)\n",
    "\n",
    "print('==============')\n",
    "print('Total Quality       :', sum_quality_vrp / n_testing)\n",
    "print('# POI               :', sum_n_poi_vrp / n_testing)\n",
    "print('Duration Utilization:', sum_duration_utilization_vrp / n_testing)\n",
    "print('Running Time        :', sum_duration_vrp / n_testing)"
   ],
   "id": "ac9879c2e9cb97df",
   "outputs": [
    {
     "name": "stdout",
     "output_type": "stream",
     "text": [
      "==============\n",
      "Total Quality       : 0.47340966025428405\n",
      "# POI               : 32.5\n",
      "Duration Utilization: 82.31179487179487\n",
      "Running Time        : 0:00:09.607751\n"
     ]
    }
   ],
   "execution_count": 6
  },
  {
   "metadata": {},
   "cell_type": "markdown",
   "source": "## Random",
   "id": "5a4ff5487cee60a"
  },
  {
   "metadata": {
    "ExecuteTime": {
     "end_time": "2025-05-24T08:02:55.282074Z",
     "start_time": "2025-05-24T08:02:47.848462Z"
    }
   },
   "cell_type": "code",
   "source": [
    "use_case = RunRandomUseCase(\n",
    "    container.data_frame_repository(),\n",
    "    container.random_repository()\n",
    ")\n",
    "\n",
    "sum_quality_random = 0\n",
    "sum_n_poi_random = 0\n",
    "sum_duration_utilization_random = 0\n",
    "sum_duration_random = datetime.timedelta(0)\n",
    "\n",
    "list_quality_random = []\n",
    "list_n_poi_random = []\n",
    "list_duration_utilization_random = []\n",
    "list_duration_random = []\n",
    "\n",
    "for i in range(n_testing):\n",
    "    now = datetime.datetime.now()\n",
    "    routes, total_quality, n_poi, duration_utilization = use_case.execute(\n",
    "        list_of_pois[0],\n",
    "        n_days,\n",
    "        hotel_id,\n",
    "        alfa,\n",
    "        beta\n",
    "    )\n",
    "    duration = datetime.datetime.now() - now\n",
    "    sum_quality_random += total_quality\n",
    "    sum_n_poi_random += n_poi\n",
    "    sum_duration_utilization_random += duration_utilization\n",
    "    sum_duration_random += duration\n",
    "\n",
    "    list_quality_random.append(total_quality)\n",
    "    list_n_poi_random.append(n_poi)\n",
    "    list_duration_utilization_random.append(duration_utilization)\n",
    "    list_duration_random.append(duration)\n",
    "\n",
    "print('==============')\n",
    "print('Total Quality       :', sum_quality_random / n_testing)\n",
    "print('# POI               :', sum_n_poi_random / n_testing)\n",
    "print('Duration Utilization:', sum_duration_utilization_random / n_testing)\n",
    "print('Running Time        :', sum_duration_random / n_testing)"
   ],
   "id": "4ef16fb193fabf4b",
   "outputs": [
    {
     "name": "stdout",
     "output_type": "stream",
     "text": [
      "==============\n",
      "Total Quality       : 0.4728395370646766\n",
      "# POI               : 32.1\n",
      "Duration Utilization: 78.90115384615385\n",
      "Running Time        : 0:00:00.742710\n"
     ]
    }
   ],
   "execution_count": 7
  },
  {
   "metadata": {},
   "cell_type": "markdown",
   "source": "## Greedy",
   "id": "532343038d812e23"
  },
  {
   "metadata": {
    "ExecuteTime": {
     "end_time": "2025-05-24T08:03:12.297274Z",
     "start_time": "2025-05-24T08:02:55.300919Z"
    }
   },
   "cell_type": "code",
   "source": [
    "use_case = RunGreedyUseCase(\n",
    "    container.data_frame_repository(),\n",
    "    container.greedy_repository()\n",
    ")\n",
    "\n",
    "sum_quality_greedy = 0\n",
    "sum_n_poi_greedy = 0\n",
    "sum_duration_utilization_greedy = 0\n",
    "sum_duration_greedy = datetime.timedelta(0)\n",
    "\n",
    "list_quality_greedy = []\n",
    "list_n_poi_greedy = []\n",
    "list_duration_utilization_greedy = []\n",
    "list_duration_greedy = []\n",
    "\n",
    "for i in range(n_testing):\n",
    "    now = datetime.datetime.now()\n",
    "    routes, total_quality, n_poi, duration_utilization = use_case.execute(\n",
    "        list_of_pois[0],\n",
    "        n_days,\n",
    "        hotel_id,\n",
    "        alfa,\n",
    "        beta\n",
    "    )\n",
    "    duration = datetime.datetime.now() - now\n",
    "    sum_quality_greedy += total_quality\n",
    "    sum_n_poi_greedy += n_poi\n",
    "    sum_duration_utilization_greedy += duration_utilization\n",
    "    sum_duration_greedy += duration\n",
    "\n",
    "    list_quality_greedy.append(total_quality)\n",
    "    list_n_poi_greedy.append(n_poi)\n",
    "    list_duration_utilization_greedy.append(duration_utilization)\n",
    "    list_duration_greedy.append(duration)\n",
    "\n",
    "print('==============')\n",
    "print('Total Quality       :', sum_quality_greedy / n_testing)\n",
    "print('# POI               :', sum_n_poi_greedy / n_testing)\n",
    "print('Duration Utilization:', sum_duration_utilization_greedy / n_testing)\n",
    "print('Running Time        :', sum_duration_greedy / n_testing)"
   ],
   "id": "f5a333b085d3a7e2",
   "outputs": [
    {
     "name": "stdout",
     "output_type": "stream",
     "text": [
      "==============\n",
      "Total Quality       : 0.46376615035931434\n",
      "# POI               : 32.0\n",
      "Duration Utilization: 83.1128205128205\n",
      "Running Time        : 0:00:01.699086\n"
     ]
    }
   ],
   "execution_count": 8
  },
  {
   "metadata": {},
   "cell_type": "markdown",
   "source": "# Generate Sample Data",
   "id": "36a8017e4fe77f23"
  },
  {
   "metadata": {},
   "cell_type": "markdown",
   "source": [
    "Let's create two samples with slightly different distributions to test:\n",
    "- Sample 1: Normal distribution with mean=0\n",
    "- Sample 2: Normal distribution with mean"
   ],
   "id": "cd4def93703db9b1"
  },
  {
   "metadata": {
    "ExecuteTime": {
     "end_time": "2025-05-24T08:03:12.467505Z",
     "start_time": "2025-05-24T08:03:12.305662Z"
    }
   },
   "cell_type": "code",
   "source": [
    "# Generate sample data\n",
    "sample1 = np.random.normal(0, 1, 100)  # Mean=0, SD=1, Size=100\n",
    "sample2 = np.random.normal(0.5, 1, 100)  # Mean=0.5, SD=1, Size=100\n",
    "\n",
    "# Create box plots to visualize the distributions\n",
    "plt.figure(figsize=(10, 6))\n",
    "sns.boxplot(data=[list_fitness_vrp_op, list_quality_vrp], width=0.5)\n",
    "plt.xticks([0, 1], ['Sample 1', 'Sample 2'])\n",
    "plt.ylabel('Values')\n",
    "plt.title('Distribution of Two Samples')"
   ],
   "id": "ec62f480b6f8e5d9",
   "outputs": [
    {
     "data": {
      "text/plain": [
       "Text(0.5, 1.0, 'Distribution of Two Samples')"
      ]
     },
     "execution_count": 9,
     "metadata": {},
     "output_type": "execute_result"
    },
    {
     "data": {
      "text/plain": [
       "<Figure size 1000x600 with 1 Axes>"
      ],
      "image/png": "[encoded data removed]"
     },
     "metadata": {},
     "output_type": "display_data"
    }
   ],
   "execution_count": 9
  },
  {
   "metadata": {},
   "cell_type": "markdown",
   "source": [
    "# Perform Wilcoxon Rank-Sum Test\n",
    "Now we'll perform the test using scipy.stats.ranksums function.\n",
    "\n",
    "The null hypothesis is that the two samples come from the same distribution.\n",
    "The alternative hypothesis is that the two samples"
   ],
   "id": "d8cb5400dfcb8c2f"
  },
  {
   "metadata": {},
   "cell_type": "markdown",
   "source": "## Fitness value",
   "id": "ad455cc7559731f8"
  },
  {
   "metadata": {},
   "cell_type": "markdown",
   "source": "### VRP",
   "id": "37e4ff72ec7a17e7"
  },
  {
   "metadata": {
    "ExecuteTime": {
     "end_time": "2025-05-24T09:31:56.034781Z",
     "start_time": "2025-05-24T09:31:56.030346Z"
    }
   },
   "cell_type": "code",
   "source": [
    "# Perform Wilcoxon rank-sum test\n",
    "statistic, p_value = stats.ranksums(list_fitness_vrp_op, list_quality_vrp)\n",
    "\n",
    "print(f\"Wilcoxon rank-sum test results:\")\n",
    "print(f\"Test statistic: {statistic:.4f}\")\n",
    "print(f\"p-value: {p_value:.4f}\")\n",
    "\n",
    "# Interpret the results\n",
    "alpha = 0.05\n",
    "print(\"\\nInterpretation:\")\n",
    "if p_value < alpha:\n",
    "    print(f\"Since p-value ({p_value:.4f}) < alpha ({alpha}), we reject the null hypothesis.\")\n",
    "    print(\"The two samples likely come from different distributions.\")\n",
    "else:\n",
    "    print(f\"Since p-value ({p_value:.4f}) >= alpha ({alpha}), we fail to reject the null hypothesis.\")\n",
    "    print(\"We don't have enough evidence to say the samples come from different distributions.\")"
   ],
   "id": "534b0e3fb6d9f17a",
   "outputs": [
    {
     "name": "stdout",
     "output_type": "stream",
     "text": [
      "Wilcoxon rank-sum test results:\n",
      "Test statistic: 0.4536\n",
      "p-value: 0.6501\n",
      "\n",
      "Interpretation:\n",
      "Since p-value (0.6501) >= alpha (0.05), we fail to reject the null hypothesis.\n",
      "We don't have enough evidence to say the samples come from different distributions.\n"
     ]
    }
   ],
   "execution_count": 12
  },
  {
   "metadata": {},
   "cell_type": "markdown",
   "source": "### Random",
   "id": "897789422e48d1cb"
  },
  {
   "metadata": {
    "ExecuteTime": {
     "end_time": "2025-05-24T09:36:24.117868Z",
     "start_time": "2025-05-24T09:36:24.113369Z"
    }
   },
   "cell_type": "code",
   "source": [
    "# Perform Wilcoxon rank-sum test\n",
    "statistic, p_value = stats.ranksums(list_fitness_vrp_op, list_quality_random)\n",
    "\n",
    "print(f\"Wilcoxon rank-sum test results:\")\n",
    "print(f\"Test statistic: {statistic:.4f}\")\n",
    "print(f\"p-value: {p_value:.4f}\")\n",
    "\n",
    "# Interpret the results\n",
    "alpha = 0.05\n",
    "print(\"\\nInterpretation:\")\n",
    "if p_value < alpha:\n",
    "    print(f\"Since p-value ({p_value:.4f}) < alpha ({alpha}), we reject the null hypothesis.\")\n",
    "    print(\"The two samples likely come from different distributions.\")\n",
    "else:\n",
    "    print(f\"Since p-value ({p_value:.4f}) >= alpha ({alpha}), we fail to reject the null hypothesis.\")\n",
    "    print(\"We don't have enough evidence to say the samples come from different distributions.\")"
   ],
   "id": "2507e097cc5d4f45",
   "outputs": [
    {
     "name": "stdout",
     "output_type": "stream",
     "text": [
      "Wilcoxon rank-sum test results:\n",
      "Test statistic: 0.6047\n",
      "p-value: 0.5453\n",
      "\n",
      "Interpretation:\n",
      "Since p-value (0.5453) >= alpha (0.05), we fail to reject the null hypothesis.\n",
      "We don't have enough evidence to say the samples come from different distributions.\n"
     ]
    }
   ],
   "execution_count": 15
  },
  {
   "metadata": {},
   "cell_type": "markdown",
   "source": "### Greedy",
   "id": "500073d3765b5fba"
  },
  {
   "metadata": {
    "ExecuteTime": {
     "end_time": "2025-05-24T09:36:31.321449Z",
     "start_time": "2025-05-24T09:36:31.317449Z"
    }
   },
   "cell_type": "code",
   "source": [
    "# Perform Wilcoxon rank-sum test\n",
    "statistic, p_value = stats.ranksums(list_fitness_vrp_op, list_quality_greedy)\n",
    "\n",
    "print(f\"Wilcoxon rank-sum test results:\")\n",
    "print(f\"Test statistic: {statistic:.4f}\")\n",
    "print(f\"p-value: {p_value:.4f}\")\n",
    "\n",
    "# Interpret the results\n",
    "alpha = 0.05\n",
    "print(\"\\nInterpretation:\")\n",
    "if p_value < alpha:\n",
    "    print(f\"Since p-value ({p_value:.4f}) < alpha ({alpha}), we reject the null hypothesis.\")\n",
    "    print(\"The two samples likely come from different distributions.\")\n",
    "else:\n",
    "    print(f\"Since p-value ({p_value:.4f}) >= alpha ({alpha}), we fail to reject the null hypothesis.\")\n",
    "    print(\"We don't have enough evidence to say the samples come from different distributions.\")"
   ],
   "id": "27453ce978a0669c",
   "outputs": [
    {
     "name": "stdout",
     "output_type": "stream",
     "text": [
      "Wilcoxon rank-sum test results:\n",
      "Test statistic: 2.2678\n",
      "p-value: 0.0233\n",
      "\n",
      "Interpretation:\n",
      "Since p-value (0.0233) < alpha (0.05), we reject the null hypothesis.\n",
      "The two samples likely come from different distributions.\n"
     ]
    }
   ],
   "execution_count": 16
  },
  {
   "metadata": {},
   "cell_type": "markdown",
   "source": "## Number of POI",
   "id": "fc8ede545a3991d2"
  },
  {
   "metadata": {},
   "cell_type": "markdown",
   "source": "### VRP",
   "id": "94ca837352d7c04"
  },
  {
   "metadata": {
    "ExecuteTime": {
     "end_time": "2025-05-24T09:49:37.859271Z",
     "start_time": "2025-05-24T09:49:37.854408Z"
    }
   },
   "cell_type": "code",
   "source": [
    "# Perform Wilcoxon rank-sum test\n",
    "statistic, p_value = stats.ranksums(list_n_poi_vrp_op, list_n_poi_vrp)\n",
    "\n",
    "print(f\"Wilcoxon rank-sum test results:\")\n",
    "print(f\"Test statistic: {statistic:.4f}\")\n",
    "print(f\"p-value: {p_value:.4f}\")\n",
    "\n",
    "# Interpret the results\n",
    "alpha = 0.05\n",
    "print(\"\\nInterpretation:\")\n",
    "if p_value < alpha:\n",
    "    print(f\"Since p-value ({p_value:.4f}) < alpha ({alpha}), we reject the null hypothesis.\")\n",
    "    print(\"The two samples likely come from different distributions.\")\n",
    "else:\n",
    "    print(f\"Since p-value ({p_value:.4f}) >= alpha ({alpha}), we fail to reject the null hypothesis.\")\n",
    "    print(\"We don't have enough evidence to say the samples come from different distributions.\")"
   ],
   "id": "b5981dcac80f120b",
   "outputs": [
    {
     "name": "stdout",
     "output_type": "stream",
     "text": [
      "Wilcoxon rank-sum test results:\n",
      "Test statistic: 0.7181\n",
      "p-value: 0.4727\n",
      "\n",
      "Interpretation:\n",
      "Since p-value (0.4727) >= alpha (0.05), we fail to reject the null hypothesis.\n",
      "We don't have enough evidence to say the samples come from different distributions.\n"
     ]
    }
   ],
   "execution_count": 17
  },
  {
   "metadata": {},
   "cell_type": "markdown",
   "source": "### Random",
   "id": "1e143f9b96e4d763"
  },
  {
   "metadata": {
    "ExecuteTime": {
     "end_time": "2025-05-24T09:50:29.343337Z",
     "start_time": "2025-05-24T09:50:29.338877Z"
    }
   },
   "cell_type": "code",
   "source": [
    "# Perform Wilcoxon rank-sum test\n",
    "statistic, p_value = stats.ranksums(list_n_poi_vrp_op, list_n_poi_random)\n",
    "\n",
    "print(f\"Wilcoxon rank-sum test results:\")\n",
    "print(f\"Test statistic: {statistic:.4f}\")\n",
    "print(f\"p-value: {p_value:.4f}\")\n",
    "\n",
    "# Interpret the results\n",
    "alpha = 0.05\n",
    "print(\"\\nInterpretation:\")\n",
    "if p_value < alpha:\n",
    "    print(f\"Since p-value ({p_value:.4f}) < alpha ({alpha}), we reject the null hypothesis.\")\n",
    "    print(\"The two samples likely come from different distributions.\")\n",
    "else:\n",
    "    print(f\"Since p-value ({p_value:.4f}) >= alpha ({alpha}), we fail to reject the null hypothesis.\")\n",
    "    print(\"We don't have enough evidence to say the samples come from different distributions.\")"
   ],
   "id": "4f1ea946f1e82376",
   "outputs": [
    {
     "name": "stdout",
     "output_type": "stream",
     "text": [
      "Wilcoxon rank-sum test results:\n",
      "Test statistic: 1.3607\n",
      "p-value: 0.1736\n",
      "\n",
      "Interpretation:\n",
      "Since p-value (0.1736) >= alpha (0.05), we fail to reject the null hypothesis.\n",
      "We don't have enough evidence to say the samples come from different distributions.\n"
     ]
    }
   ],
   "execution_count": 18
  },
  {
   "metadata": {},
   "cell_type": "markdown",
   "source": "### Greedy",
   "id": "d3e6df3187c71dec"
  },
  {
   "metadata": {
    "ExecuteTime": {
     "end_time": "2025-05-24T09:52:55.984355Z",
     "start_time": "2025-05-24T09:52:55.980414Z"
    }
   },
   "cell_type": "code",
   "source": [
    "# Perform Wilcoxon rank-sum test\n",
    "statistic, p_value = stats.ranksums(list_n_poi_vrp_op, list_n_poi_greedy)\n",
    "\n",
    "print(f\"Wilcoxon rank-sum test results:\")\n",
    "print(f\"Test statistic: {statistic:.4f}\")\n",
    "print(f\"p-value: {p_value:.4f}\")\n",
    "\n",
    "# Interpret the results\n",
    "alpha = 0.05\n",
    "print(\"\\nInterpretation:\")\n",
    "if p_value < alpha:\n",
    "    print(f\"Since p-value ({p_value:.4f}) < alpha ({alpha}), we reject the null hypothesis.\")\n",
    "    print(\"The two samples likely come from different distributions.\")\n",
    "else:\n",
    "    print(f\"Since p-value ({p_value:.4f}) >= alpha ({alpha}), we fail to reject the null hypothesis.\")\n",
    "    print(\"We don't have enough evidence to say the samples come from different distributions.\")"
   ],
   "id": "6aff5fba93cc9d7",
   "outputs": [
    {
     "name": "stdout",
     "output_type": "stream",
     "text": [
      "Wilcoxon rank-sum test results:\n",
      "Test statistic: 1.8898\n",
      "p-value: 0.0588\n",
      "\n",
      "Interpretation:\n",
      "Since p-value (0.0588) >= alpha (0.05), we fail to reject the null hypothesis.\n",
      "We don't have enough evidence to say the samples come from different distributions.\n"
     ]
    }
   ],
   "execution_count": 20
  },
  {
   "metadata": {},
   "cell_type": "markdown",
   "source": "## Average daily utilization",
   "id": "4025a7fff5c7db58"
  },
  {
   "metadata": {},
   "cell_type": "markdown",
   "source": "### VRP",
   "id": "9248a7c014656da1"
  },
  {
   "metadata": {
    "ExecuteTime": {
     "end_time": "2025-05-24T09:56:24.274666Z",
     "start_time": "2025-05-24T09:56:24.269826Z"
    }
   },
   "cell_type": "code",
   "source": [
    "# Perform Wilcoxon rank-sum test\n",
    "statistic, p_value = stats.ranksums(list_duration_utilization_vrp_op, list_duration_utilization_vrp)\n",
    "\n",
    "print(f\"Wilcoxon rank-sum test results:\")\n",
    "print(f\"Test statistic: {statistic:.4f}\")\n",
    "print(f\"p-value: {p_value:.4f}\")\n",
    "\n",
    "print(\"\\nInterpretation:\")\n",
    "if p_value < alpha:\n",
    "    print(f\"Since p-value ({p_value:.4f}) < alpha ({alpha}), we reject the null hypothesis.\")\n",
    "    print(\"The two samples likely come from different distributions.\")\n",
    "else:\n",
    "    print(f\"Since p-value ({p_value:.4f}) >= alpha ({alpha}), we fail to reject the null hypothesis.\")\n",
    "    print(\"We don't have enough evidence to say the samples come from different distributions.\")"
   ],
   "id": "a780ef28a7122df",
   "outputs": [
    {
     "name": "stdout",
     "output_type": "stream",
     "text": [
      "Wilcoxon rank-sum test results:\n",
      "Test statistic: 0.9071\n",
      "p-value: 0.3643\n",
      "\n",
      "Interpretation:\n",
      "Since p-value (0.3643) >= alpha (0.05), we fail to reject the null hypothesis.\n",
      "We don't have enough evidence to say the samples come from different distributions.\n"
     ]
    }
   ],
   "execution_count": 21
  },
  {
   "metadata": {},
   "cell_type": "markdown",
   "source": "### Random",
   "id": "5ad62be67a4df849"
  },
  {
   "metadata": {
    "ExecuteTime": {
     "end_time": "2025-05-24T09:56:56.940843Z",
     "start_time": "2025-05-24T09:56:56.935844Z"
    }
   },
   "cell_type": "code",
   "source": [
    "# Perform Wilcoxon rank-sum test\n",
    "statistic, p_value = stats.ranksums(list_duration_utilization_vrp_op, list_duration_utilization_random)\n",
    "\n",
    "print(f\"Wilcoxon rank-sum test results:\")\n",
    "print(f\"Test statistic: {statistic:.4f}\")\n",
    "print(f\"p-value: {p_value:.4f}\")\n",
    "\n",
    "print(\"\\nInterpretation:\")\n",
    "if p_value < alpha:\n",
    "    print(f\"Since p-value ({p_value:.4f}) < alpha ({alpha}), we reject the null hypothesis.\")\n",
    "    print(\"The two samples likely come from different distributions.\")\n",
    "else:\n",
    "    print(f\"Since p-value ({p_value:.4f}) >= alpha ({alpha}), we fail to reject the null hypothesis.\")\n",
    "    print(\"We don't have enough evidence to say the samples come from different distributions.\")"
   ],
   "id": "f07e4041ab7e44b3",
   "outputs": [
    {
     "name": "stdout",
     "output_type": "stream",
     "text": [
      "Wilcoxon rank-sum test results:\n",
      "Test statistic: 3.0237\n",
      "p-value: 0.0025\n",
      "\n",
      "Interpretation:\n",
      "Since p-value (0.0025) < alpha (0.05), we reject the null hypothesis.\n",
      "The two samples likely come from different distributions.\n"
     ]
    }
   ],
   "execution_count": 22
  },
  {
   "metadata": {},
   "cell_type": "markdown",
   "source": "### Greedy",
   "id": "43345203611d027c"
  },
  {
   "metadata": {
    "ExecuteTime": {
     "end_time": "2025-05-24T09:57:44.074248Z",
     "start_time": "2025-05-24T09:57:44.070228Z"
    }
   },
   "cell_type": "code",
   "source": [
    "# Perform Wilcoxon rank-sum test\n",
    "statistic, p_value = stats.ranksums(list_duration_utilization_vrp_op, list_duration_utilization_greedy)\n",
    "\n",
    "print(f\"Wilcoxon rank-sum test results:\")\n",
    "print(f\"Test statistic: {statistic:.4f}\")\n",
    "print(f\"p-value: {p_value:.4f}\")\n",
    "\n",
    "print(\"\\nInterpretation:\")\n",
    "if p_value < alpha:\n",
    "    print(f\"Since p-value ({p_value:.4f}) < alpha ({alpha}), we reject the null hypothesis.\")\n",
    "    print(\"The two samples likely come from different distributions.\")\n",
    "else:\n",
    "    print(f\"Since p-value ({p_value:.4f}) >= alpha ({alpha}), we fail to reject the null hypothesis.\")\n",
    "    print(\"We don't have enough evidence to say the samples come from different distributions.\")"
   ],
   "id": "b0f6daf08008be47",
   "outputs": [
    {
     "name": "stdout",
     "output_type": "stream",
     "text": [
      "Wilcoxon rank-sum test results:\n",
      "Test statistic: 0.0000\n",
      "p-value: 1.0000\n",
      "\n",
      "Interpretation:\n",
      "Since p-value (1.0000) >= alpha (0.05), we fail to reject the null hypothesis.\n",
      "We don't have enough evidence to say the samples come from different distributions.\n"
     ]
    }
   ],
   "execution_count": 24
  }
 ],
 "metadata": {
  "kernelspec": {
   "display_name": "Python 3",
   "language": "python",
   "name": "python3"
  },
  "language_info": {
   "codemirror_mode": {
    "name": "ipython",
    "version": 2
   },
   "file_extension": ".py",
   "mimetype": "text/x-python",
   "name": "python",
   "nbconvert_exporter": "python",
   "pygments_lexer": "ipython2",
   "version": "2.7.6"
  }
 },
 "nbformat": 4,
 "nbformat_minor": 5
}
