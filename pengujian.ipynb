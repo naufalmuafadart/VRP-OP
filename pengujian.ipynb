{
 "cells": [
  {
   "cell_type": "markdown",
   "id": "007e8d78",
   "metadata": {},
   "source": [
    "Import dependency"
   ]
  },
  {
   "cell_type": "code",
   "execution_count": 1,
   "id": "ec4ff7c1",
   "metadata": {},
   "outputs": [],
   "source": [
    "from dependency_injector import containers, providers\n",
    "\n",
    "# infrastructure\n",
    "from application.infrastructure.repository.PandasDataFrameRepository import PandasDataFrameRepository\n",
    "from application.infrastructure.repository.KMeansClusteringRepository import KMeansClusteringRepository\n",
    "from application.infrastructure.repository.TSPProblemRepository import TSPProblemRepository\n",
    "from application.infrastructure.repository.VRPProblemRepository import VRPProblemRepository\n",
    "from application.infrastructure.repository.TOPProblemRepository import TOPProblemRepository\n",
    "from application.infrastructure.repository.SAAlgorithmRepository import SAAlgorithmRepository\n",
    "\n",
    "# use case\n",
    "from application.use_case.RunTSPUseCase import RunTSPUseCase\n",
    "from application.use_case.RunVRPUseCase import RunVRPUseCase\n",
    "from application.use_case.RunTOPUseCase import RunTOPUseCase"
   ]
  },
  {
   "cell_type": "markdown",
   "id": "cb1932a8",
   "metadata": {},
   "source": [
    "Membuat dependency injector"
   ]
  },
  {
   "cell_type": "code",
   "execution_count": 2,
   "id": "80709910",
   "metadata": {},
   "outputs": [],
   "source": [
    "class Container(containers.DeclarativeContainer):\n",
    "    data_frame_repository = providers.Singleton(PandasDataFrameRepository)\n",
    "    clustering_repository = providers.Singleton(KMeansClusteringRepository)\n",
    "    tsp_repository = providers.Singleton(TSPProblemRepository)\n",
    "    vrp_repository = providers.Singleton(VRPProblemRepository)\n",
    "    top_repository = providers.Singleton(TOPProblemRepository)\n",
    "    sa_repository = providers.Singleton(SAAlgorithmRepository)\n",
    "\n",
    "container = Container()"
   ]
  },
  {
   "cell_type": "markdown",
   "id": "274269e7",
   "metadata": {},
   "source": [
    "Data yang digunakan"
   ]
  },
  {
   "cell_type": "code",
   "execution_count": 3,
   "id": "ec03619e",
   "metadata": {},
   "outputs": [],
   "source": [
    "selected_pois = [62, 16, 59, 69, 46, 75, 82, 88, 85, 91, 39, 27, 68, 58, 13, 12, 84, 71, 98, 2, 10, 49, 20, 94, 50, 34, 83, 4, 40, 55, 63, 74, 26, 54, 6, 1, 3, 5, 7, 8]\n",
    "n_days = 5"
   ]
  },
  {
   "cell_type": "markdown",
   "id": "9754eab0",
   "metadata": {},
   "source": [
    "# TSP"
   ]
  },
  {
   "cell_type": "code",
   "execution_count": 4,
   "id": "838ed1db",
   "metadata": {},
   "outputs": [
    {
     "name": "stdout",
     "output_type": "stream",
     "text": [
      "[[63, 20, 88, 62, 84, 10, 85, 3, 2], [3, 20, 84, 62, 10, 88, 2, 85], [3, 85, 62, 20, 84, 10, 2, 88], [3, 10, 85, 88, 62, 84, 2], [88, 85, 84, 3, 62, 10, 2]]\n",
      "Rata rata rating :  4.633333333333334\n",
      "Total durasi :  81045\n"
     ]
    }
   ],
   "source": [
    "use_case = RunTSPUseCase(\n",
    "    container.data_frame_repository(),\n",
    "    container.tsp_repository(),\n",
    "    container.sa_repository()\n",
    ")\n",
    "\n",
    "use_case.execute(\n",
    "    selected_pois,\n",
    "    n_days,\n",
    "    101 # hotel id\n",
    ")"
   ]
  },
  {
   "cell_type": "markdown",
   "id": "ba92d9aa",
   "metadata": {},
   "source": [
    "# VRP"
   ]
  },
  {
   "cell_type": "code",
   "execution_count": 5,
   "id": "983400a9",
   "metadata": {},
   "outputs": [
    {
     "name": "stdout",
     "output_type": "stream",
     "text": [
      "[[98, 85, 7, 58, 2, 88, 46], [69, 34, 27, 50, 84, 4, 74], [94, 82, 1, 62, 63, 59, 71], [8, 13, 55, 20, 75, 83], [49, 26, 10, 3, 91, 40, 16, 5]]\n",
      "Rata rata rating :  4.588571428571428\n",
      "Total durasi :  74091\n"
     ]
    }
   ],
   "source": [
    "use_case = RunVRPUseCase(\n",
    "    container.data_frame_repository(),\n",
    "    container.vrp_repository(),\n",
    "    container.sa_repository()\n",
    ")\n",
    "\n",
    "use_case.execute(\n",
    "    selected_pois,\n",
    "    n_days,\n",
    "    101 # hotel id\n",
    ")"
   ]
  },
  {
   "cell_type": "markdown",
   "id": "6800340c",
   "metadata": {},
   "source": [
    "# TOP"
   ]
  },
  {
   "cell_type": "code",
   "execution_count": 6,
   "id": "82180887",
   "metadata": {},
   "outputs": [
    {
     "name": "stdout",
     "output_type": "stream",
     "text": [
      "[[40, 71, 27, 94, 2, 46, 83], [98, 39, 75, 63, 10, 74, 85], [1, 88, 49, 55, 62, 59], [7, 3, 82, 20, 4, 58], [26, 34, 50, 16, 13, 84]]\n",
      "Rata rata rating :  4.5874999999999995\n",
      "Total durasi :  70096\n"
     ]
    }
   ],
   "source": [
    "use_case = RunTOPUseCase(\n",
    "    container.data_frame_repository(),\n",
    "    container.top_repository(),\n",
    "    container.sa_repository()\n",
    ")\n",
    "\n",
    "use_case.execute(\n",
    "    selected_pois,\n",
    "    n_days,\n",
    "    101 # hotel id\n",
    ")"
   ]
  }
 ],
 "metadata": {
  "kernelspec": {
   "display_name": "Python 3",
   "language": "python",
   "name": "python3"
  },
  "language_info": {
   "codemirror_mode": {
    "name": "ipython",
    "version": 3
   },
   "file_extension": ".py",
   "mimetype": "text/x-python",
   "name": "python",
   "nbconvert_exporter": "python",
   "pygments_lexer": "ipython3",
   "version": "3.12.1"
  }
 },
 "nbformat": 4,
 "nbformat_minor": 5
}
