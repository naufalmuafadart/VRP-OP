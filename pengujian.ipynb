{
 "cells": [
  {
   "cell_type": "markdown",
   "id": "007e8d78",
   "metadata": {},
   "source": [
    "Import dependency"
   ]
  },
  {
   "cell_type": "code",
   "execution_count": 1,
   "id": "ec4ff7c1",
   "metadata": {},
   "outputs": [],
   "source": [
    "from dependency_injector import containers, providers\n",
    "\n",
    "# infrastructure\n",
    "from application.infrastructure.repository.PandasDataFrameRepository import PandasDataFrameRepository\n",
    "from application.infrastructure.repository.KMeansClusteringRepository import KMeansClusteringRepository\n",
    "from application.infrastructure.repository.TSPProblemRepository import TSPProblemRepository\n",
    "from application.infrastructure.repository.VRPProblemRepository import VRPProblemRepository\n",
    "from application.infrastructure.repository.TOPProblemRepository import TOPProblemRepository\n",
    "from application.infrastructure.repository.VRPOPProblemRepository import VRPOPProblemRepository\n",
    "from application.infrastructure.repository.SAAlgorithmRepository import SAAlgorithmRepository\n",
    "\n",
    "# use case\n",
    "from application.use_case.RunTSPUseCase import RunTSPUseCase\n",
    "from application.use_case.RunVRPUseCase import RunVRPUseCase\n",
    "from application.use_case.RunTOPUseCase import RunTOPUseCase\n",
    "from application.use_case.RunVRPOPUseCase import RunVRPOPUseCase"
   ]
  },
  {
   "cell_type": "markdown",
   "id": "cb1932a8",
   "metadata": {},
   "source": [
    "Membuat dependency injector"
   ]
  },
  {
   "cell_type": "code",
   "execution_count": 2,
   "id": "80709910",
   "metadata": {},
   "outputs": [],
   "source": [
    "class Container(containers.DeclarativeContainer):\n",
    "    data_frame_repository = providers.Singleton(PandasDataFrameRepository)\n",
    "    clustering_repository = providers.Singleton(KMeansClusteringRepository)\n",
    "    tsp_repository = providers.Singleton(TSPProblemRepository)\n",
    "    vrp_repository = providers.Singleton(VRPProblemRepository)\n",
    "    top_repository = providers.Singleton(TOPProblemRepository)\n",
    "    vrpop_repository = providers.Singleton(VRPOPProblemRepository)\n",
    "    sa_repository = providers.Singleton(SAAlgorithmRepository)\n",
    "\n",
    "container = Container()"
   ]
  },
  {
   "cell_type": "markdown",
   "id": "274269e7",
   "metadata": {},
   "source": [
    "Data yang digunakan"
   ]
  },
  {
   "cell_type": "code",
   "execution_count": 3,
   "id": "ec03619e",
   "metadata": {},
   "outputs": [],
   "source": [
    "selected_pois = [62, 16, 59, 69, 46, 75, 82, 88, 85, 91, 39, 27, 68, 58, 13, 12, 84, 71, 98, 2, 10, 49, 20, 94, 50, 34, 83, 4, 40, 55, 63, 74, 26, 54, 6, 1, 3, 5, 7, 8]\n",
    "n_days = 5"
   ]
  },
  {
   "cell_type": "markdown",
   "id": "9754eab0",
   "metadata": {},
   "source": [
    "# TSP"
   ]
  },
  {
   "cell_type": "code",
   "execution_count": 4,
   "id": "838ed1db",
   "metadata": {},
   "outputs": [
    {
     "name": "stdout",
     "output_type": "stream",
     "text": [
      "[[58, 7, 16, 62, 71, 83], [83, 62, 58, 7, 71], [62, 7, 58, 71, 83], [7, 71, 62, 58, 83], [83, 62, 58, 71, 7]]\n",
      "Rata rata rating :  4.533333333333333\n",
      "Total durasi :  122427\n"
     ]
    }
   ],
   "source": [
    "use_case = RunTSPUseCase(\n",
    "    container.data_frame_repository(),\n",
    "    container.tsp_repository(),\n",
    "    container.sa_repository()\n",
    ")\n",
    "\n",
    "use_case.execute(\n",
    "    selected_pois,\n",
    "    n_days,\n",
    "    101 # hotel id\n",
    ")"
   ]
  },
  {
   "cell_type": "markdown",
   "id": "ba92d9aa",
   "metadata": {},
   "source": [
    "# VRP"
   ]
  },
  {
   "cell_type": "code",
   "execution_count": 5,
   "id": "983400a9",
   "metadata": {},
   "outputs": [
    {
     "name": "stdout",
     "output_type": "stream",
     "text": [
      "[[13, 10, 75, 3, 55, 94, 88], [7, 2, 59, 50, 27, 74], [91, 84, 20, 58, 5, 83], [49, 68, 85, 4, 26, 34], [82, 40, 16, 62, 46, 1]]\n",
      "Rata rata rating :  4.587096774193548\n",
      "Total durasi :  67999\n"
     ]
    }
   ],
   "source": [
    "use_case = RunVRPUseCase(\n",
    "    container.data_frame_repository(),\n",
    "    container.vrp_repository(),\n",
    "    container.sa_repository()\n",
    ")\n",
    "\n",
    "use_case.execute(\n",
    "    selected_pois,\n",
    "    n_days,\n",
    "    101 # hotel id\n",
    ")"
   ]
  },
  {
   "cell_type": "markdown",
   "id": "6800340c",
   "metadata": {},
   "source": [
    "# TOP"
   ]
  },
  {
   "cell_type": "code",
   "execution_count": 6,
   "id": "82180887",
   "metadata": {},
   "outputs": [
    {
     "name": "stdout",
     "output_type": "stream",
     "text": [
      "[[46, 27, 74, 20, 26, 83, 85], [98, 84, 59, 1, 39, 5, 71], [13, 58, 69, 40, 94, 4, 7], [63, 88, 10, 55, 91, 75, 2], [49, 50, 16, 3, 68, 62]]\n",
      "Rata rata rating :  4.588235294117647\n",
      "Total durasi :  67523\n"
     ]
    }
   ],
   "source": [
    "use_case = RunTOPUseCase(\n",
    "    container.data_frame_repository(),\n",
    "    container.top_repository(),\n",
    "    container.sa_repository()\n",
    ")\n",
    "\n",
    "use_case.execute(\n",
    "    selected_pois,\n",
    "    n_days,\n",
    "    101 # hotel id\n",
    ")"
   ]
  },
  {
   "cell_type": "markdown",
   "id": "5aab4135",
   "metadata": {},
   "source": [
    "# VRP OP"
   ]
  },
  {
   "cell_type": "code",
   "execution_count": 7,
   "id": "1eebc699",
   "metadata": {},
   "outputs": [
    {
     "name": "stdout",
     "output_type": "stream",
     "text": [
      "[[3, 59, 4, 85, 75, 26, 50], [83, 40, 71, 27, 74, 2], [10, 63, 55, 7, 69, 91, 16], [46, 82, 58, 49, 5, 13], [88, 68, 39, 1, 62, 94]]\n",
      "Rata rata rating :  4.584375\n",
      "Total durasi :  65869\n"
     ]
    }
   ],
   "source": [
    "use_case = RunVRPOPUseCase(\n",
    "    container.data_frame_repository(),\n",
    "    container.vrpop_repository(),\n",
    "    container.sa_repository()\n",
    ")\n",
    "\n",
    "use_case.execute(\n",
    "    selected_pois,\n",
    "    n_days,\n",
    "    101 # hotel id\n",
    ")"
   ]
  }
 ],
 "metadata": {
  "kernelspec": {
   "display_name": "Python 3",
   "language": "python",
   "name": "python3"
  },
  "language_info": {
   "codemirror_mode": {
    "name": "ipython",
    "version": 3
   },
   "file_extension": ".py",
   "mimetype": "text/x-python",
   "name": "python",
   "nbconvert_exporter": "python",
   "pygments_lexer": "ipython3",
   "version": "3.12.1"
  }
 },
 "nbformat": 4,
 "nbformat_minor": 5
}
