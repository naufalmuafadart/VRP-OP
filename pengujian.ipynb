{
 "cells": [
  {
   "cell_type": "markdown",
   "id": "007e8d78",
   "metadata": {},
   "source": [
    "Import dependency"
   ]
  },
  {
   "cell_type": "code",
   "execution_count": 1,
   "id": "ec4ff7c1",
   "metadata": {},
   "outputs": [],
   "source": [
    "from dependency_injector import containers, providers\n",
    "\n",
    "# infrastructure\n",
    "from application.infrastructure.repository.PandasDataFrameRepository import PandasDataFrameRepository\n",
    "from application.infrastructure.repository.KMeansClusteringRepository import KMeansClusteringRepository\n",
    "from application.infrastructure.repository.TSPProblemRepository import TSPProblemRepository\n",
    "from application.infrastructure.repository.VRPProblemRepository import VRPProblemRepository\n",
    "from application.infrastructure.repository.OPProblemRepository import OPProblemRepository\n",
    "from application.infrastructure.repository.SAAlgorithmRepository import SAAlgorithmRepository\n",
    "\n",
    "# use case\n",
    "from application.use_case.RunTSPUseCase import RunTSPUseCase\n",
    "from application.use_case.RunVRPUseCase import RunVRPUseCase\n",
    "from application.use_case.RunOPUseCase import RunOPUseCase"
   ]
  },
  {
   "cell_type": "markdown",
   "id": "cb1932a8",
   "metadata": {},
   "source": [
    "Membuat dependency injector"
   ]
  },
  {
   "cell_type": "code",
   "execution_count": 2,
   "id": "80709910",
   "metadata": {},
   "outputs": [],
   "source": [
    "class Container(containers.DeclarativeContainer):\n",
    "    data_frame_repository = providers.Singleton(PandasDataFrameRepository)\n",
    "    clustering_repository = providers.Singleton(KMeansClusteringRepository)\n",
    "    tsp_repository = providers.Singleton(TSPProblemRepository)\n",
    "    vrp_repository = providers.Singleton(VRPProblemRepository)\n",
    "    op_repository = providers.Singleton(OPProblemRepository)\n",
    "    sa_repository = providers.Singleton(SAAlgorithmRepository)\n",
    "\n",
    "container = Container()"
   ]
  },
  {
   "cell_type": "markdown",
   "id": "274269e7",
   "metadata": {},
   "source": [
    "Data yang digunakan"
   ]
  },
  {
   "cell_type": "code",
   "execution_count": 3,
   "id": "ec03619e",
   "metadata": {},
   "outputs": [],
   "source": [
    "selected_pois = [62, 16, 59, 69, 46, 75, 82, 88, 85, 91, 39, 27, 68, 58, 13, 12, 84, 71, 98, 2, 10, 49, 20, 94, 50, 34, 83, 4, 40, 55, 63, 74, 26, 54, 6, 1, 3, 5, 7, 8]\n",
    "n_days = 5"
   ]
  },
  {
   "cell_type": "markdown",
   "id": "9754eab0",
   "metadata": {},
   "source": [
    "# TSP"
   ]
  },
  {
   "cell_type": "code",
   "execution_count": 4,
   "id": "838ed1db",
   "metadata": {},
   "outputs": [
    {
     "name": "stdout",
     "output_type": "stream",
     "text": [
      "[[20, 91, 58, 16, 40, 50, 4, 3], [40, 16, 4, 50, 91, 58, 3], [91, 16, 58, 4, 40, 3, 50], [50, 91, 4, 40, 3, 58], [58, 50, 40, 3, 91, 4]]\n",
      "Rata rata rating :  4.5625\n",
      "Total durasi :  94389\n"
     ]
    }
   ],
   "source": [
    "use_case = RunTSPUseCase(\n",
    "    container.data_frame_repository(),\n",
    "    container.tsp_repository(),\n",
    "    container.sa_repository()\n",
    ")\n",
    "\n",
    "use_case.execute(\n",
    "    selected_pois,\n",
    "    n_days,\n",
    "    101 # hotel id\n",
    ")"
   ]
  },
  {
   "cell_type": "markdown",
   "id": "ba92d9aa",
   "metadata": {},
   "source": [
    "# VRP"
   ]
  },
  {
   "cell_type": "code",
   "execution_count": 5,
   "id": "983400a9",
   "metadata": {},
   "outputs": [
    {
     "name": "stdout",
     "output_type": "stream",
     "text": [
      "[[13, 59, 75, 63, 50, 10, 3], [62, 46, 7, 4, 16, 88, 74], [84, 20, 34, 2, 55, 40, 85], [71, 94, 58, 5, 27], [83, 26, 69, 91, 39, 49, 1]]\n",
      "Rata rata rating :  4.584848484848485\n",
      "Total durasi :  73324\n"
     ]
    }
   ],
   "source": [
    "use_case = RunVRPUseCase(\n",
    "    container.data_frame_repository(),\n",
    "    container.vrp_repository(),\n",
    "    container.sa_repository()\n",
    ")\n",
    "\n",
    "use_case.execute(\n",
    "    selected_pois,\n",
    "    n_days,\n",
    "    101 # hotel id\n",
    ")"
   ]
  },
  {
   "cell_type": "markdown",
   "id": "6800340c",
   "metadata": {},
   "source": [
    "# TOP"
   ]
  },
  {
   "cell_type": "code",
   "execution_count": 6,
   "id": "82180887",
   "metadata": {},
   "outputs": [
    {
     "name": "stdout",
     "output_type": "stream",
     "text": [
      "[[5, 63, 82, 59, 74, 49, 27], [12, 4, 71, 62, 2, 83, 85], [46, 20, 1, 7, 84, 10], [13, 88, 26, 39, 75, 3], [6, 68, 69, 50, 40, 94, 34]]\n",
      "Rata rata rating :  4.596969696969697\n",
      "Total durasi :  61826\n"
     ]
    }
   ],
   "source": [
    "use_case = RunOPUseCase(\n",
    "    container.data_frame_repository(),\n",
    "    container.op_repository(),\n",
    "    container.sa_repository()\n",
    ")\n",
    "\n",
    "use_case.execute(\n",
    "    selected_pois,\n",
    "    n_days,\n",
    "    101 # hotel id\n",
    ")"
   ]
  }
 ],
 "metadata": {
  "kernelspec": {
   "display_name": "Python 3",
   "language": "python",
   "name": "python3"
  },
  "language_info": {
   "codemirror_mode": {
    "name": "ipython",
    "version": 3
   },
   "file_extension": ".py",
   "mimetype": "text/x-python",
   "name": "python",
   "nbconvert_exporter": "python",
   "pygments_lexer": "ipython3",
   "version": "3.12.1"
  }
 },
 "nbformat": 4,
 "nbformat_minor": 5
}
